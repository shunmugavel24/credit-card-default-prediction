{
  "cells": [
    {
      "cell_type": "markdown",
      "id": "ec0357d7",
      "metadata": {
        "papermill": {
          "duration": 0.059831,
          "end_time": "2022-04-29T19:36:34.385178",
          "exception": false,
          "start_time": "2022-04-29T19:36:34.325347",
          "status": "completed"
        },
        "tags": [],
        "id": "ec0357d7"
      },
      "source": [
        "This notebook aims to predict the probability of default payment by credit card client using the data provided. "
      ]
    },
    {
      "cell_type": "markdown",
      "id": "5393fbbd",
      "metadata": {
        "papermill": {
          "duration": 0.057395,
          "end_time": "2022-04-29T19:36:34.618787",
          "exception": false,
          "start_time": "2022-04-29T19:36:34.561392",
          "status": "completed"
        },
        "tags": [],
        "id": "5393fbbd"
      },
      "source": [
        "#About Dataset\n",
        "\n",
        "***There are 25 variables:***\n",
        "\n",
        "* ID: ID of each client\n",
        "* LIMIT_BAL: Amount of given credit in NT dollars (includes individual and family/supplementary credit\n",
        "* SEX: Gender (1=male, 2=female)\n",
        "* EDUCATION: (1=graduate school, 2=university, 3=high school, 4=others, 5=unknown, 6=unknown)\n",
        "* MARRIAGE: Marital status (1=married, 2=single, 3=others)\n",
        "* AGE: Age in years\n",
        "* PAY_0: Repayment status in September, 2005 (-1=pay duly, 1=payment delay for one month, 2=payment delay for two months, … 8=payment delay for eight months, 9=payment delay for nine months and above)\n",
        "* PAY_2: Repayment status in August, 2005 (scale same as above)\n",
        "* PAY_3: Repayment status in July, 2005 (scale same as above)\n",
        "* PAY_4: Repayment status in June, 2005 (scale same as above)\n",
        "* PAY_5: Repayment status in May, 2005 (scale same as above)\n",
        "* PAY_6: Repayment status in April, 2005 (scale same as above)\n",
        "* BILL_AMT1: Amount of bill statement in September, 2005 (NT dollar)\n",
        "* BILL_AMT2: Amount of bill statement in August, 2005 (NT dollar)\n",
        "* BILL_AMT3: Amount of bill statement in July, 2005 (NT dollar)\n",
        "* BILL_AMT4: Amount of bill statement in June, 2005 (NT dollar)\n",
        "* BILL_AMT5: Amount of bill statement in May, 2005 (NT dollar)\n",
        "* BILL_AMT6: Amount of bill statement in April, 2005 (NT dollar)\n",
        "* PAY_AMT1: Amount of previous payment in September, 2005 (NT dollar)\n",
        "* PAY_AMT2: Amount of previous payment in August, 2005 (NT dollar)\n",
        "* PAY_AMT3: Amount of previous payment in July, 2005 (NT dollar)\n",
        "* PAY_AMT4: Amount of previous payment in June, 2005 (NT dollar)\n",
        "* PAY_AMT5: Amount of previous payment in May, 2005 (NT dollar)\n",
        "* PAY_AMT6: Amount of previous payment in April, 2005 (NT dollar)\n",
        "* default.payment.next.month: Default payment (1=yes, 0=no)"
      ]
    },
    {
      "cell_type": "markdown",
      "id": "e93196e5",
      "metadata": {
        "papermill": {
          "duration": 0.057116,
          "end_time": "2022-04-29T19:36:34.733301",
          "exception": false,
          "start_time": "2022-04-29T19:36:34.676185",
          "status": "completed"
        },
        "tags": [],
        "id": "e93196e5"
      },
      "source": [
        "### Importing Packages"
      ]
    },
    {
      "cell_type": "code",
      "execution_count": 1,
      "id": "e4377523",
      "metadata": {
        "execution": {
          "iopub.execute_input": "2022-04-29T19:36:34.857570Z",
          "iopub.status.busy": "2022-04-29T19:36:34.856941Z",
          "iopub.status.idle": "2022-04-29T19:36:36.597029Z",
          "shell.execute_reply": "2022-04-29T19:36:36.596054Z"
        },
        "papermill": {
          "duration": 1.808714,
          "end_time": "2022-04-29T19:36:36.599757",
          "exception": false,
          "start_time": "2022-04-29T19:36:34.791043",
          "status": "completed"
        },
        "tags": [],
        "id": "e4377523"
      },
      "outputs": [],
      "source": [
        "import os \n",
        "import warnings\n",
        "warnings.filterwarnings('ignore')\n",
        "import numpy as np\n",
        "import pandas as pd\n",
        "from pandas import Series, DataFrame\n",
        "import scipy.stats as stats\n",
        "import seaborn as sns\n",
        "import matplotlib.pyplot as plt\n",
        "%matplotlib inline\n",
        "from sklearn.model_selection import train_test_split, GridSearchCV\n",
        "from sklearn import metrics\n",
        "from sklearn.preprocessing import StandardScaler, OneHotEncoder\n",
        "import statsmodels.formula.api as smf\n",
        "from sklearn.metrics import accuracy_score, confusion_matrix,classification_report\n",
        "from sklearn.linear_model import LogisticRegression, LinearRegression, ElasticNet, Lasso, Ridge\n",
        "from sklearn.neighbors import KNeighborsClassifier\n",
        "from sklearn.tree import DecisionTreeClassifier\n",
        "from sklearn.svm import LinearSVC, LinearSVR, SVC, SVR\n",
        "from sklearn.naive_bayes import BernoulliNB, MultinomialNB, GaussianNB"
      ]
    },
    {
      "cell_type": "markdown",
      "id": "ea04d906",
      "metadata": {
        "papermill": {
          "duration": 0.057438,
          "end_time": "2022-04-29T19:36:36.715759",
          "exception": false,
          "start_time": "2022-04-29T19:36:36.658321",
          "status": "completed"
        },
        "tags": [],
        "id": "ea04d906"
      },
      "source": [
        "### Importing Dataset"
      ]
    },
    {
      "cell_type": "code",
      "execution_count": 2,
      "id": "e29c8042",
      "metadata": {
        "execution": {
          "iopub.execute_input": "2022-04-29T19:36:36.836820Z",
          "iopub.status.busy": "2022-04-29T19:36:36.836199Z",
          "iopub.status.idle": "2022-04-29T19:36:37.015216Z",
          "shell.execute_reply": "2022-04-29T19:36:37.014438Z"
        },
        "papermill": {
          "duration": 0.242146,
          "end_time": "2022-04-29T19:36:37.017443",
          "exception": false,
          "start_time": "2022-04-29T19:36:36.775297",
          "status": "completed"
        },
        "tags": [],
        "id": "e29c8042"
      },
      "outputs": [],
      "source": [
        "df=pd.read_csv(\"/content/UCI_Credit_Card.csv\") #reading the dataset"
      ]
    },
    {
      "cell_type": "code",
      "execution_count": 3,
      "id": "221965f0",
      "metadata": {
        "execution": {
          "iopub.execute_input": "2022-04-29T19:36:37.138865Z",
          "iopub.status.busy": "2022-04-29T19:36:37.138300Z",
          "iopub.status.idle": "2022-04-29T19:36:37.181953Z",
          "shell.execute_reply": "2022-04-29T19:36:37.181317Z"
        },
        "papermill": {
          "duration": 0.106975,
          "end_time": "2022-04-29T19:36:37.184443",
          "exception": false,
          "start_time": "2022-04-29T19:36:37.077468",
          "status": "completed"
        },
        "tags": [],
        "colab": {
          "base_uri": "https://localhost:8080/",
          "height": 456
        },
        "id": "221965f0",
        "outputId": "551a98d7-722c-4eff-e398-c0999ec376e4"
      },
      "outputs": [
        {
          "output_type": "execute_result",
          "data": {
            "text/plain": [
              "   ID  LIMIT_BAL  SEX  EDUCATION  MARRIAGE  AGE  PAY_0  PAY_2  PAY_3  PAY_4  \\\n",
              "0   1    20000.0    2          2         1   24      2      2     -1     -1   \n",
              "1   2   120000.0    2          2         2   26     -1      2      0      0   \n",
              "2   3    90000.0    2          2         2   34      0      0      0      0   \n",
              "3   4    50000.0    2          2         1   37      0      0      0      0   \n",
              "4   5    50000.0    1          2         1   57     -1      0     -1      0   \n",
              "5   6    50000.0    1          1         2   37      0      0      0      0   \n",
              "6   7   500000.0    1          1         2   29      0      0      0      0   \n",
              "7   8   100000.0    2          2         2   23      0     -1     -1      0   \n",
              "8   9   140000.0    2          3         1   28      0      0      2      0   \n",
              "9  10    20000.0    1          3         2   35     -2     -2     -2     -2   \n",
              "\n",
              "   ...  BILL_AMT4  BILL_AMT5  BILL_AMT6  PAY_AMT1  PAY_AMT2  PAY_AMT3  \\\n",
              "0  ...        0.0        0.0        0.0       0.0     689.0       0.0   \n",
              "1  ...     3272.0     3455.0     3261.0       0.0    1000.0    1000.0   \n",
              "2  ...    14331.0    14948.0    15549.0    1518.0    1500.0    1000.0   \n",
              "3  ...    28314.0    28959.0    29547.0    2000.0    2019.0    1200.0   \n",
              "4  ...    20940.0    19146.0    19131.0    2000.0   36681.0   10000.0   \n",
              "5  ...    19394.0    19619.0    20024.0    2500.0    1815.0     657.0   \n",
              "6  ...   542653.0   483003.0   473944.0   55000.0   40000.0   38000.0   \n",
              "7  ...      221.0     -159.0      567.0     380.0     601.0       0.0   \n",
              "8  ...    12211.0    11793.0     3719.0    3329.0       0.0     432.0   \n",
              "9  ...        0.0    13007.0    13912.0       0.0       0.0       0.0   \n",
              "\n",
              "   PAY_AMT4  PAY_AMT5  PAY_AMT6  default.payment.next.month  \n",
              "0       0.0       0.0       0.0                           1  \n",
              "1    1000.0       0.0    2000.0                           1  \n",
              "2    1000.0    1000.0    5000.0                           0  \n",
              "3    1100.0    1069.0    1000.0                           0  \n",
              "4    9000.0     689.0     679.0                           0  \n",
              "5    1000.0    1000.0     800.0                           0  \n",
              "6   20239.0   13750.0   13770.0                           0  \n",
              "7     581.0    1687.0    1542.0                           0  \n",
              "8    1000.0    1000.0    1000.0                           0  \n",
              "9   13007.0    1122.0       0.0                           0  \n",
              "\n",
              "[10 rows x 25 columns]"
            ],
            "text/html": [
              "\n",
              "  <div id=\"df-a3791a2f-0fd0-4a10-92be-6455d6e273c2\">\n",
              "    <div class=\"colab-df-container\">\n",
              "      <div>\n",
              "<style scoped>\n",
              "    .dataframe tbody tr th:only-of-type {\n",
              "        vertical-align: middle;\n",
              "    }\n",
              "\n",
              "    .dataframe tbody tr th {\n",
              "        vertical-align: top;\n",
              "    }\n",
              "\n",
              "    .dataframe thead th {\n",
              "        text-align: right;\n",
              "    }\n",
              "</style>\n",
              "<table border=\"1\" class=\"dataframe\">\n",
              "  <thead>\n",
              "    <tr style=\"text-align: right;\">\n",
              "      <th></th>\n",
              "      <th>ID</th>\n",
              "      <th>LIMIT_BAL</th>\n",
              "      <th>SEX</th>\n",
              "      <th>EDUCATION</th>\n",
              "      <th>MARRIAGE</th>\n",
              "      <th>AGE</th>\n",
              "      <th>PAY_0</th>\n",
              "      <th>PAY_2</th>\n",
              "      <th>PAY_3</th>\n",
              "      <th>PAY_4</th>\n",
              "      <th>...</th>\n",
              "      <th>BILL_AMT4</th>\n",
              "      <th>BILL_AMT5</th>\n",
              "      <th>BILL_AMT6</th>\n",
              "      <th>PAY_AMT1</th>\n",
              "      <th>PAY_AMT2</th>\n",
              "      <th>PAY_AMT3</th>\n",
              "      <th>PAY_AMT4</th>\n",
              "      <th>PAY_AMT5</th>\n",
              "      <th>PAY_AMT6</th>\n",
              "      <th>default.payment.next.month</th>\n",
              "    </tr>\n",
              "  </thead>\n",
              "  <tbody>\n",
              "    <tr>\n",
              "      <th>0</th>\n",
              "      <td>1</td>\n",
              "      <td>20000.0</td>\n",
              "      <td>2</td>\n",
              "      <td>2</td>\n",
              "      <td>1</td>\n",
              "      <td>24</td>\n",
              "      <td>2</td>\n",
              "      <td>2</td>\n",
              "      <td>-1</td>\n",
              "      <td>-1</td>\n",
              "      <td>...</td>\n",
              "      <td>0.0</td>\n",
              "      <td>0.0</td>\n",
              "      <td>0.0</td>\n",
              "      <td>0.0</td>\n",
              "      <td>689.0</td>\n",
              "      <td>0.0</td>\n",
              "      <td>0.0</td>\n",
              "      <td>0.0</td>\n",
              "      <td>0.0</td>\n",
              "      <td>1</td>\n",
              "    </tr>\n",
              "    <tr>\n",
              "      <th>1</th>\n",
              "      <td>2</td>\n",
              "      <td>120000.0</td>\n",
              "      <td>2</td>\n",
              "      <td>2</td>\n",
              "      <td>2</td>\n",
              "      <td>26</td>\n",
              "      <td>-1</td>\n",
              "      <td>2</td>\n",
              "      <td>0</td>\n",
              "      <td>0</td>\n",
              "      <td>...</td>\n",
              "      <td>3272.0</td>\n",
              "      <td>3455.0</td>\n",
              "      <td>3261.0</td>\n",
              "      <td>0.0</td>\n",
              "      <td>1000.0</td>\n",
              "      <td>1000.0</td>\n",
              "      <td>1000.0</td>\n",
              "      <td>0.0</td>\n",
              "      <td>2000.0</td>\n",
              "      <td>1</td>\n",
              "    </tr>\n",
              "    <tr>\n",
              "      <th>2</th>\n",
              "      <td>3</td>\n",
              "      <td>90000.0</td>\n",
              "      <td>2</td>\n",
              "      <td>2</td>\n",
              "      <td>2</td>\n",
              "      <td>34</td>\n",
              "      <td>0</td>\n",
              "      <td>0</td>\n",
              "      <td>0</td>\n",
              "      <td>0</td>\n",
              "      <td>...</td>\n",
              "      <td>14331.0</td>\n",
              "      <td>14948.0</td>\n",
              "      <td>15549.0</td>\n",
              "      <td>1518.0</td>\n",
              "      <td>1500.0</td>\n",
              "      <td>1000.0</td>\n",
              "      <td>1000.0</td>\n",
              "      <td>1000.0</td>\n",
              "      <td>5000.0</td>\n",
              "      <td>0</td>\n",
              "    </tr>\n",
              "    <tr>\n",
              "      <th>3</th>\n",
              "      <td>4</td>\n",
              "      <td>50000.0</td>\n",
              "      <td>2</td>\n",
              "      <td>2</td>\n",
              "      <td>1</td>\n",
              "      <td>37</td>\n",
              "      <td>0</td>\n",
              "      <td>0</td>\n",
              "      <td>0</td>\n",
              "      <td>0</td>\n",
              "      <td>...</td>\n",
              "      <td>28314.0</td>\n",
              "      <td>28959.0</td>\n",
              "      <td>29547.0</td>\n",
              "      <td>2000.0</td>\n",
              "      <td>2019.0</td>\n",
              "      <td>1200.0</td>\n",
              "      <td>1100.0</td>\n",
              "      <td>1069.0</td>\n",
              "      <td>1000.0</td>\n",
              "      <td>0</td>\n",
              "    </tr>\n",
              "    <tr>\n",
              "      <th>4</th>\n",
              "      <td>5</td>\n",
              "      <td>50000.0</td>\n",
              "      <td>1</td>\n",
              "      <td>2</td>\n",
              "      <td>1</td>\n",
              "      <td>57</td>\n",
              "      <td>-1</td>\n",
              "      <td>0</td>\n",
              "      <td>-1</td>\n",
              "      <td>0</td>\n",
              "      <td>...</td>\n",
              "      <td>20940.0</td>\n",
              "      <td>19146.0</td>\n",
              "      <td>19131.0</td>\n",
              "      <td>2000.0</td>\n",
              "      <td>36681.0</td>\n",
              "      <td>10000.0</td>\n",
              "      <td>9000.0</td>\n",
              "      <td>689.0</td>\n",
              "      <td>679.0</td>\n",
              "      <td>0</td>\n",
              "    </tr>\n",
              "    <tr>\n",
              "      <th>5</th>\n",
              "      <td>6</td>\n",
              "      <td>50000.0</td>\n",
              "      <td>1</td>\n",
              "      <td>1</td>\n",
              "      <td>2</td>\n",
              "      <td>37</td>\n",
              "      <td>0</td>\n",
              "      <td>0</td>\n",
              "      <td>0</td>\n",
              "      <td>0</td>\n",
              "      <td>...</td>\n",
              "      <td>19394.0</td>\n",
              "      <td>19619.0</td>\n",
              "      <td>20024.0</td>\n",
              "      <td>2500.0</td>\n",
              "      <td>1815.0</td>\n",
              "      <td>657.0</td>\n",
              "      <td>1000.0</td>\n",
              "      <td>1000.0</td>\n",
              "      <td>800.0</td>\n",
              "      <td>0</td>\n",
              "    </tr>\n",
              "    <tr>\n",
              "      <th>6</th>\n",
              "      <td>7</td>\n",
              "      <td>500000.0</td>\n",
              "      <td>1</td>\n",
              "      <td>1</td>\n",
              "      <td>2</td>\n",
              "      <td>29</td>\n",
              "      <td>0</td>\n",
              "      <td>0</td>\n",
              "      <td>0</td>\n",
              "      <td>0</td>\n",
              "      <td>...</td>\n",
              "      <td>542653.0</td>\n",
              "      <td>483003.0</td>\n",
              "      <td>473944.0</td>\n",
              "      <td>55000.0</td>\n",
              "      <td>40000.0</td>\n",
              "      <td>38000.0</td>\n",
              "      <td>20239.0</td>\n",
              "      <td>13750.0</td>\n",
              "      <td>13770.0</td>\n",
              "      <td>0</td>\n",
              "    </tr>\n",
              "    <tr>\n",
              "      <th>7</th>\n",
              "      <td>8</td>\n",
              "      <td>100000.0</td>\n",
              "      <td>2</td>\n",
              "      <td>2</td>\n",
              "      <td>2</td>\n",
              "      <td>23</td>\n",
              "      <td>0</td>\n",
              "      <td>-1</td>\n",
              "      <td>-1</td>\n",
              "      <td>0</td>\n",
              "      <td>...</td>\n",
              "      <td>221.0</td>\n",
              "      <td>-159.0</td>\n",
              "      <td>567.0</td>\n",
              "      <td>380.0</td>\n",
              "      <td>601.0</td>\n",
              "      <td>0.0</td>\n",
              "      <td>581.0</td>\n",
              "      <td>1687.0</td>\n",
              "      <td>1542.0</td>\n",
              "      <td>0</td>\n",
              "    </tr>\n",
              "    <tr>\n",
              "      <th>8</th>\n",
              "      <td>9</td>\n",
              "      <td>140000.0</td>\n",
              "      <td>2</td>\n",
              "      <td>3</td>\n",
              "      <td>1</td>\n",
              "      <td>28</td>\n",
              "      <td>0</td>\n",
              "      <td>0</td>\n",
              "      <td>2</td>\n",
              "      <td>0</td>\n",
              "      <td>...</td>\n",
              "      <td>12211.0</td>\n",
              "      <td>11793.0</td>\n",
              "      <td>3719.0</td>\n",
              "      <td>3329.0</td>\n",
              "      <td>0.0</td>\n",
              "      <td>432.0</td>\n",
              "      <td>1000.0</td>\n",
              "      <td>1000.0</td>\n",
              "      <td>1000.0</td>\n",
              "      <td>0</td>\n",
              "    </tr>\n",
              "    <tr>\n",
              "      <th>9</th>\n",
              "      <td>10</td>\n",
              "      <td>20000.0</td>\n",
              "      <td>1</td>\n",
              "      <td>3</td>\n",
              "      <td>2</td>\n",
              "      <td>35</td>\n",
              "      <td>-2</td>\n",
              "      <td>-2</td>\n",
              "      <td>-2</td>\n",
              "      <td>-2</td>\n",
              "      <td>...</td>\n",
              "      <td>0.0</td>\n",
              "      <td>13007.0</td>\n",
              "      <td>13912.0</td>\n",
              "      <td>0.0</td>\n",
              "      <td>0.0</td>\n",
              "      <td>0.0</td>\n",
              "      <td>13007.0</td>\n",
              "      <td>1122.0</td>\n",
              "      <td>0.0</td>\n",
              "      <td>0</td>\n",
              "    </tr>\n",
              "  </tbody>\n",
              "</table>\n",
              "<p>10 rows × 25 columns</p>\n",
              "</div>\n",
              "      <button class=\"colab-df-convert\" onclick=\"convertToInteractive('df-a3791a2f-0fd0-4a10-92be-6455d6e273c2')\"\n",
              "              title=\"Convert this dataframe to an interactive table.\"\n",
              "              style=\"display:none;\">\n",
              "        \n",
              "  <svg xmlns=\"http://www.w3.org/2000/svg\" height=\"24px\"viewBox=\"0 0 24 24\"\n",
              "       width=\"24px\">\n",
              "    <path d=\"M0 0h24v24H0V0z\" fill=\"none\"/>\n",
              "    <path d=\"M18.56 5.44l.94 2.06.94-2.06 2.06-.94-2.06-.94-.94-2.06-.94 2.06-2.06.94zm-11 1L8.5 8.5l.94-2.06 2.06-.94-2.06-.94L8.5 2.5l-.94 2.06-2.06.94zm10 10l.94 2.06.94-2.06 2.06-.94-2.06-.94-.94-2.06-.94 2.06-2.06.94z\"/><path d=\"M17.41 7.96l-1.37-1.37c-.4-.4-.92-.59-1.43-.59-.52 0-1.04.2-1.43.59L10.3 9.45l-7.72 7.72c-.78.78-.78 2.05 0 2.83L4 21.41c.39.39.9.59 1.41.59.51 0 1.02-.2 1.41-.59l7.78-7.78 2.81-2.81c.8-.78.8-2.07 0-2.86zM5.41 20L4 18.59l7.72-7.72 1.47 1.35L5.41 20z\"/>\n",
              "  </svg>\n",
              "      </button>\n",
              "      \n",
              "  <style>\n",
              "    .colab-df-container {\n",
              "      display:flex;\n",
              "      flex-wrap:wrap;\n",
              "      gap: 12px;\n",
              "    }\n",
              "\n",
              "    .colab-df-convert {\n",
              "      background-color: #E8F0FE;\n",
              "      border: none;\n",
              "      border-radius: 50%;\n",
              "      cursor: pointer;\n",
              "      display: none;\n",
              "      fill: #1967D2;\n",
              "      height: 32px;\n",
              "      padding: 0 0 0 0;\n",
              "      width: 32px;\n",
              "    }\n",
              "\n",
              "    .colab-df-convert:hover {\n",
              "      background-color: #E2EBFA;\n",
              "      box-shadow: 0px 1px 2px rgba(60, 64, 67, 0.3), 0px 1px 3px 1px rgba(60, 64, 67, 0.15);\n",
              "      fill: #174EA6;\n",
              "    }\n",
              "\n",
              "    [theme=dark] .colab-df-convert {\n",
              "      background-color: #3B4455;\n",
              "      fill: #D2E3FC;\n",
              "    }\n",
              "\n",
              "    [theme=dark] .colab-df-convert:hover {\n",
              "      background-color: #434B5C;\n",
              "      box-shadow: 0px 1px 3px 1px rgba(0, 0, 0, 0.15);\n",
              "      filter: drop-shadow(0px 1px 2px rgba(0, 0, 0, 0.3));\n",
              "      fill: #FFFFFF;\n",
              "    }\n",
              "  </style>\n",
              "\n",
              "      <script>\n",
              "        const buttonEl =\n",
              "          document.querySelector('#df-a3791a2f-0fd0-4a10-92be-6455d6e273c2 button.colab-df-convert');\n",
              "        buttonEl.style.display =\n",
              "          google.colab.kernel.accessAllowed ? 'block' : 'none';\n",
              "\n",
              "        async function convertToInteractive(key) {\n",
              "          const element = document.querySelector('#df-a3791a2f-0fd0-4a10-92be-6455d6e273c2');\n",
              "          const dataTable =\n",
              "            await google.colab.kernel.invokeFunction('convertToInteractive',\n",
              "                                                     [key], {});\n",
              "          if (!dataTable) return;\n",
              "\n",
              "          const docLinkHtml = 'Like what you see? Visit the ' +\n",
              "            '<a target=\"_blank\" href=https://colab.research.google.com/notebooks/data_table.ipynb>data table notebook</a>'\n",
              "            + ' to learn more about interactive tables.';\n",
              "          element.innerHTML = '';\n",
              "          dataTable['output_type'] = 'display_data';\n",
              "          await google.colab.output.renderOutput(dataTable, element);\n",
              "          const docLink = document.createElement('div');\n",
              "          docLink.innerHTML = docLinkHtml;\n",
              "          element.appendChild(docLink);\n",
              "        }\n",
              "      </script>\n",
              "    </div>\n",
              "  </div>\n",
              "  "
            ]
          },
          "metadata": {},
          "execution_count": 3
        }
      ],
      "source": [
        "df.head() #displaying 1st five values to understand about data"
      ]
    },
    {
      "cell_type": "code",
      "execution_count": 4,
      "id": "1e5e339d",
      "metadata": {
        "execution": {
          "iopub.execute_input": "2022-04-29T19:36:37.307879Z",
          "iopub.status.busy": "2022-04-29T19:36:37.307396Z",
          "iopub.status.idle": "2022-04-29T19:36:37.312320Z",
          "shell.execute_reply": "2022-04-29T19:36:37.311703Z"
        },
        "papermill": {
          "duration": 0.068184,
          "end_time": "2022-04-29T19:36:37.314154",
          "exception": false,
          "start_time": "2022-04-29T19:36:37.245970",
          "status": "completed"
        },
        "tags": [],
        "colab": {
          "base_uri": "https://localhost:8080/"
        },
        "id": "1e5e339d",
        "outputId": "99036bcd-d799-49e8-90a6-4acba0313698"
      },
      "outputs": [
        {
          "output_type": "execute_result",
          "data": {
            "text/plain": [
              "(30000, 25)"
            ]
          },
          "metadata": {},
          "execution_count": 4
        }
      ],
      "source": [
        "df.shape #it shows how many rows and columns available in the dataset"
      ]
    },
    {
      "cell_type": "code",
      "execution_count": 5,
      "id": "ba618313",
      "metadata": {
        "execution": {
          "iopub.execute_input": "2022-04-29T19:36:37.435691Z",
          "iopub.status.busy": "2022-04-29T19:36:37.435141Z",
          "iopub.status.idle": "2022-04-29T19:36:37.459741Z",
          "shell.execute_reply": "2022-04-29T19:36:37.459078Z"
        },
        "papermill": {
          "duration": 0.088833,
          "end_time": "2022-04-29T19:36:37.462460",
          "exception": false,
          "start_time": "2022-04-29T19:36:37.373627",
          "status": "completed"
        },
        "tags": [],
        "colab": {
          "base_uri": "https://localhost:8080/"
        },
        "id": "ba618313",
        "outputId": "e8a93096-b269-44ab-fb7c-a43e1ce697cc"
      },
      "outputs": [
        {
          "output_type": "stream",
          "name": "stdout",
          "text": [
            "<class 'pandas.core.frame.DataFrame'>\n",
            "RangeIndex: 30000 entries, 0 to 29999\n",
            "Data columns (total 25 columns):\n",
            " #   Column                      Non-Null Count  Dtype  \n",
            "---  ------                      --------------  -----  \n",
            " 0   ID                          30000 non-null  int64  \n",
            " 1   LIMIT_BAL                   30000 non-null  float64\n",
            " 2   SEX                         30000 non-null  int64  \n",
            " 3   EDUCATION                   30000 non-null  int64  \n",
            " 4   MARRIAGE                    30000 non-null  int64  \n",
            " 5   AGE                         30000 non-null  int64  \n",
            " 6   PAY_0                       30000 non-null  int64  \n",
            " 7   PAY_2                       30000 non-null  int64  \n",
            " 8   PAY_3                       30000 non-null  int64  \n",
            " 9   PAY_4                       30000 non-null  int64  \n",
            " 10  PAY_5                       30000 non-null  int64  \n",
            " 11  PAY_6                       30000 non-null  int64  \n",
            " 12  BILL_AMT1                   30000 non-null  float64\n",
            " 13  BILL_AMT2                   30000 non-null  float64\n",
            " 14  BILL_AMT3                   30000 non-null  float64\n",
            " 15  BILL_AMT4                   30000 non-null  float64\n",
            " 16  BILL_AMT5                   30000 non-null  float64\n",
            " 17  BILL_AMT6                   30000 non-null  float64\n",
            " 18  PAY_AMT1                    30000 non-null  float64\n",
            " 19  PAY_AMT2                    30000 non-null  float64\n",
            " 20  PAY_AMT3                    30000 non-null  float64\n",
            " 21  PAY_AMT4                    30000 non-null  float64\n",
            " 22  PAY_AMT5                    30000 non-null  float64\n",
            " 23  PAY_AMT6                    30000 non-null  float64\n",
            " 24  default.payment.next.month  30000 non-null  int64  \n",
            "dtypes: float64(13), int64(12)\n",
            "memory usage: 5.7 MB\n"
          ]
        }
      ],
      "source": [
        "df.info() #it shows the information about the dataset like datatypes of data"
      ]
    },
    {
      "cell_type": "markdown",
      "id": "12b913fc",
      "metadata": {
        "papermill": {
          "duration": 0.059399,
          "end_time": "2022-04-29T19:36:37.583277",
          "exception": false,
          "start_time": "2022-04-29T19:36:37.523878",
          "status": "completed"
        },
        "tags": [],
        "id": "12b913fc"
      },
      "source": [
        "### EDA(Exploratory Data Analysis):"
      ]
    },
    {
      "cell_type": "code",
      "execution_count": 6,
      "id": "564a727f",
      "metadata": {
        "execution": {
          "iopub.execute_input": "2022-04-29T19:36:37.704396Z",
          "iopub.status.busy": "2022-04-29T19:36:37.703885Z",
          "iopub.status.idle": "2022-04-29T19:36:37.713493Z",
          "shell.execute_reply": "2022-04-29T19:36:37.712838Z"
        },
        "papermill": {
          "duration": 0.072696,
          "end_time": "2022-04-29T19:36:37.715362",
          "exception": false,
          "start_time": "2022-04-29T19:36:37.642666",
          "status": "completed"
        },
        "tags": [],
        "colab": {
          "base_uri": "https://localhost:8080/"
        },
        "id": "564a727f",
        "outputId": "dc87cac9-962f-45ab-98f9-944edf94cd77"
      },
      "outputs": [
        {
          "output_type": "execute_result",
          "data": {
            "text/plain": [
              "0    23364\n",
              "1     6636\n",
              "Name: default, dtype: int64"
            ]
          },
          "metadata": {},
          "execution_count": 6
        }
      ],
      "source": [
        "# Distribution of defaults\n",
        "df=df.rename(columns={'default.payment.next.month':'default'})\n",
        "df.default.value_counts()"
      ]
    },
    {
      "cell_type": "code",
      "execution_count": 7,
      "id": "5d1bcfc4",
      "metadata": {
        "execution": {
          "iopub.execute_input": "2022-04-29T19:36:37.837565Z",
          "iopub.status.busy": "2022-04-29T19:36:37.836992Z",
          "iopub.status.idle": "2022-04-29T19:36:37.978595Z",
          "shell.execute_reply": "2022-04-29T19:36:37.977772Z"
        },
        "papermill": {
          "duration": 0.205493,
          "end_time": "2022-04-29T19:36:37.981017",
          "exception": false,
          "start_time": "2022-04-29T19:36:37.775524",
          "status": "completed"
        },
        "tags": [],
        "colab": {
          "base_uri": "https://localhost:8080/",
          "height": 382
        },
        "id": "5d1bcfc4",
        "outputId": "14901819-e821-4768-aee0-5d70973fb6d6"
      },
      "outputs": [
        {
          "output_type": "display_data",
          "data": {
            "text/plain": [
              "<Figure size 600x400 with 1 Axes>"
            ],
            "image/png": "[encoded data removed]"
          },
          "metadata": {
            "needs_background": "light"
          }
        }
      ],
      "source": [
        "plt.figure(dpi=100)\n",
        "sns.countplot(x=\"default\", data=df)\n",
        "plt.xlabel(\"Default\")\n",
        "plt.ylabel(\"Count\")\n",
        "plt.show()"
      ]
    },
    {
      "cell_type": "code",
      "execution_count": 8,
      "id": "eff544fb",
      "metadata": {
        "execution": {
          "iopub.execute_input": "2022-04-29T19:36:38.106878Z",
          "iopub.status.busy": "2022-04-29T19:36:38.106361Z",
          "iopub.status.idle": "2022-04-29T19:36:38.114335Z",
          "shell.execute_reply": "2022-04-29T19:36:38.113367Z"
        },
        "papermill": {
          "duration": 0.073205,
          "end_time": "2022-04-29T19:36:38.116705",
          "exception": false,
          "start_time": "2022-04-29T19:36:38.043500",
          "status": "completed"
        },
        "tags": [],
        "id": "eff544fb"
      },
      "outputs": [],
      "source": [
        "df2=df.copy()"
      ]
    },
    {
      "cell_type": "code",
      "execution_count": 9,
      "id": "40b8089c",
      "metadata": {
        "execution": {
          "iopub.execute_input": "2022-04-29T19:36:38.242612Z",
          "iopub.status.busy": "2022-04-29T19:36:38.242292Z",
          "iopub.status.idle": "2022-04-29T19:36:38.259186Z",
          "shell.execute_reply": "2022-04-29T19:36:38.258284Z"
        },
        "papermill": {
          "duration": 0.08158,
          "end_time": "2022-04-29T19:36:38.261502",
          "exception": false,
          "start_time": "2022-04-29T19:36:38.179922",
          "status": "completed"
        },
        "tags": [],
        "id": "40b8089c"
      },
      "outputs": [],
      "source": [
        "def sex1(x):\n",
        "    if (x==1):\n",
        "        return \"Male\"\n",
        "    else:\n",
        "        return \"Female\"\n",
        "df2['SEX']=df['SEX'].apply(sex1)"
      ]
    },
    {
      "cell_type": "code",
      "execution_count": 10,
      "id": "2f8b96f7",
      "metadata": {
        "execution": {
          "iopub.execute_input": "2022-04-29T19:36:38.386663Z",
          "iopub.status.busy": "2022-04-29T19:36:38.386223Z",
          "iopub.status.idle": "2022-04-29T19:36:38.548688Z",
          "shell.execute_reply": "2022-04-29T19:36:38.547901Z"
        },
        "papermill": {
          "duration": 0.227753,
          "end_time": "2022-04-29T19:36:38.551001",
          "exception": false,
          "start_time": "2022-04-29T19:36:38.323248",
          "status": "completed"
        },
        "tags": [],
        "colab": {
          "base_uri": "https://localhost:8080/",
          "height": 406
        },
        "id": "2f8b96f7",
        "outputId": "7ff67875-ac89-4e67-8d43-78c690a532d5"
      },
      "outputs": [
        {
          "output_type": "display_data",
          "data": {
            "text/plain": [
              "<Figure size 600x400 with 1 Axes>"
            ],
            "image/png": "[encoded data removed]"
          },
          "metadata": {
            "needs_background": "light"
          }
        }
      ],
      "source": [
        "plt.figure(dpi=100)\n",
        "df2.SEX.value_counts()\n",
        "sns.countplot(x=\"SEX\", data=df2)\n",
        "plt.title(\"Ratio of Gender\", size=15)\n",
        "plt.xlabel(\"Sex\")\n",
        "plt.ylabel(\"Count\")\n",
        "plt.show()"
      ]
    },
    {
      "cell_type": "code",
      "execution_count": 11,
      "id": "487f4661",
      "metadata": {
        "execution": {
          "iopub.execute_input": "2022-04-29T19:36:38.676742Z",
          "iopub.status.busy": "2022-04-29T19:36:38.676176Z",
          "iopub.status.idle": "2022-04-29T19:36:38.683666Z",
          "shell.execute_reply": "2022-04-29T19:36:38.682958Z"
        },
        "papermill": {
          "duration": 0.072393,
          "end_time": "2022-04-29T19:36:38.685596",
          "exception": false,
          "start_time": "2022-04-29T19:36:38.613203",
          "status": "completed"
        },
        "tags": [],
        "colab": {
          "base_uri": "https://localhost:8080/"
        },
        "id": "487f4661",
        "outputId": "8768d069-cf20-4e47-9d16-6b1ddcfe8099"
      },
      "outputs": [
        {
          "output_type": "execute_result",
          "data": {
            "text/plain": [
              "2    14030\n",
              "1    10585\n",
              "3     4917\n",
              "5      280\n",
              "4      123\n",
              "6       51\n",
              "0       14\n",
              "Name: EDUCATION, dtype: int64"
            ]
          },
          "metadata": {},
          "execution_count": 11
        }
      ],
      "source": [
        "df2.EDUCATION.value_counts()"
      ]
    },
    {
      "cell_type": "code",
      "execution_count": 12,
      "id": "12dd3c3e",
      "metadata": {
        "execution": {
          "iopub.execute_input": "2022-04-29T19:36:38.814302Z",
          "iopub.status.busy": "2022-04-29T19:36:38.813703Z",
          "iopub.status.idle": "2022-04-29T19:36:38.861699Z",
          "shell.execute_reply": "2022-04-29T19:36:38.860999Z"
        },
        "papermill": {
          "duration": 0.115973,
          "end_time": "2022-04-29T19:36:38.863923",
          "exception": false,
          "start_time": "2022-04-29T19:36:38.747950",
          "status": "completed"
        },
        "tags": [],
        "id": "12dd3c3e"
      },
      "outputs": [],
      "source": [
        "def edu(x):\n",
        "    if (x==0) or (x==5) or (x==6):\n",
        "        x=4\n",
        "    return x\n",
        "df['EDUCATION']=df['EDUCATION'].apply(edu)\n",
        "df2['EDUCATION']=df2['EDUCATION'].apply(edu)"
      ]
    },
    {
      "cell_type": "code",
      "execution_count": 13,
      "id": "c9bbb17a",
      "metadata": {
        "execution": {
          "iopub.execute_input": "2022-04-29T19:36:38.990520Z",
          "iopub.status.busy": "2022-04-29T19:36:38.989860Z",
          "iopub.status.idle": "2022-04-29T19:36:39.007491Z",
          "shell.execute_reply": "2022-04-29T19:36:39.006799Z"
        },
        "papermill": {
          "duration": 0.083275,
          "end_time": "2022-04-29T19:36:39.009739",
          "exception": false,
          "start_time": "2022-04-29T19:36:38.926464",
          "status": "completed"
        },
        "tags": [],
        "id": "c9bbb17a"
      },
      "outputs": [],
      "source": [
        "def edu1(x):\n",
        "    if (x==1):\n",
        "        return \"Graduate school\"\n",
        "    elif (x==2):\n",
        "        return \"University\"\n",
        "    elif (x==3):\n",
        "        return \"High School\"\n",
        "    else:\n",
        "        return \"Others\"\n",
        "df2['EDUCATION']=df2['EDUCATION'].apply(edu1)"
      ]
    },
    {
      "cell_type": "code",
      "execution_count": 14,
      "id": "27dfe3ec",
      "metadata": {
        "execution": {
          "iopub.execute_input": "2022-04-29T19:36:39.138134Z",
          "iopub.status.busy": "2022-04-29T19:36:39.137493Z",
          "iopub.status.idle": "2022-04-29T19:36:39.341459Z",
          "shell.execute_reply": "2022-04-29T19:36:39.340798Z"
        },
        "papermill": {
          "duration": 0.270385,
          "end_time": "2022-04-29T19:36:39.343628",
          "exception": false,
          "start_time": "2022-04-29T19:36:39.073243",
          "status": "completed"
        },
        "tags": [],
        "colab": {
          "base_uri": "https://localhost:8080/",
          "height": 382
        },
        "id": "27dfe3ec",
        "outputId": "31346aab-5dc4-457e-d7fc-de7ff9d5d36b"
      },
      "outputs": [
        {
          "output_type": "display_data",
          "data": {
            "text/plain": [
              "<Figure size 600x400 with 1 Axes>"
            ],
            "image/png": "[encoded data removed]"
          },
          "metadata": {
            "needs_background": "light"
          }
        }
      ],
      "source": [
        "plt.figure(dpi=100)\n",
        "df2.EDUCATION.value_counts()\n",
        "sns.countplot(x=\"EDUCATION\", hue=\"default\", data=df2)\n",
        "plt.xlabel(\"Education\")\n",
        "plt.ylabel(\"Count\")\n",
        "plt.show()"
      ]
    },
    {
      "cell_type": "code",
      "execution_count": 15,
      "id": "418eaa20",
      "metadata": {
        "execution": {
          "iopub.execute_input": "2022-04-29T19:36:39.475071Z",
          "iopub.status.busy": "2022-04-29T19:36:39.474545Z",
          "iopub.status.idle": "2022-04-29T19:36:39.482326Z",
          "shell.execute_reply": "2022-04-29T19:36:39.481275Z"
        },
        "papermill": {
          "duration": 0.0765,
          "end_time": "2022-04-29T19:36:39.484352",
          "exception": false,
          "start_time": "2022-04-29T19:36:39.407852",
          "status": "completed"
        },
        "tags": [],
        "colab": {
          "base_uri": "https://localhost:8080/"
        },
        "id": "418eaa20",
        "outputId": "2e8b3c19-d94e-4eef-f489-ae91e6657ed9"
      },
      "outputs": [
        {
          "output_type": "execute_result",
          "data": {
            "text/plain": [
              "2    15964\n",
              "1    13659\n",
              "3      323\n",
              "0       54\n",
              "Name: MARRIAGE, dtype: int64"
            ]
          },
          "metadata": {},
          "execution_count": 15
        }
      ],
      "source": [
        "df.MARRIAGE.value_counts()"
      ]
    },
    {
      "cell_type": "code",
      "execution_count": 16,
      "id": "57cdfee3",
      "metadata": {
        "execution": {
          "iopub.execute_input": "2022-04-29T19:36:39.615024Z",
          "iopub.status.busy": "2022-04-29T19:36:39.614749Z",
          "iopub.status.idle": "2022-04-29T19:36:39.667599Z",
          "shell.execute_reply": "2022-04-29T19:36:39.666780Z"
        },
        "papermill": {
          "duration": 0.119961,
          "end_time": "2022-04-29T19:36:39.670023",
          "exception": false,
          "start_time": "2022-04-29T19:36:39.550062",
          "status": "completed"
        },
        "tags": [],
        "id": "57cdfee3"
      },
      "outputs": [],
      "source": [
        "def marriage(x):\n",
        "    if (x==0):\n",
        "        x=3\n",
        "    return x\n",
        "df['MARRIAGE']=df['MARRIAGE'].apply(marriage)\n",
        "df2['MARRIAGE']=df2['MARRIAGE'].apply(marriage)"
      ]
    },
    {
      "cell_type": "code",
      "execution_count": 17,
      "id": "3c6fb7e2",
      "metadata": {
        "execution": {
          "iopub.execute_input": "2022-04-29T19:36:39.798394Z",
          "iopub.status.busy": "2022-04-29T19:36:39.798128Z",
          "iopub.status.idle": "2022-04-29T19:36:39.814164Z",
          "shell.execute_reply": "2022-04-29T19:36:39.813188Z"
        },
        "papermill": {
          "duration": 0.083093,
          "end_time": "2022-04-29T19:36:39.816539",
          "exception": false,
          "start_time": "2022-04-29T19:36:39.733446",
          "status": "completed"
        },
        "tags": [],
        "id": "3c6fb7e2"
      },
      "outputs": [],
      "source": [
        "def marriage1(x):\n",
        "    if (x==1):\n",
        "        return \"Married\"\n",
        "    elif (x==2):\n",
        "        return \"Single\"\n",
        "    else:\n",
        "        return \"Others\"\n",
        "df2['MARRIAGE']=df2['MARRIAGE'].apply(marriage1)"
      ]
    },
    {
      "cell_type": "code",
      "execution_count": 18,
      "id": "78f657e2",
      "metadata": {
        "execution": {
          "iopub.execute_input": "2022-04-29T19:36:39.948346Z",
          "iopub.status.busy": "2022-04-29T19:36:39.948090Z",
          "iopub.status.idle": "2022-04-29T19:36:40.143013Z",
          "shell.execute_reply": "2022-04-29T19:36:40.142167Z"
        },
        "papermill": {
          "duration": 0.262092,
          "end_time": "2022-04-29T19:36:40.145370",
          "exception": false,
          "start_time": "2022-04-29T19:36:39.883278",
          "status": "completed"
        },
        "tags": [],
        "colab": {
          "base_uri": "https://localhost:8080/",
          "height": 382
        },
        "id": "78f657e2",
        "outputId": "42254b13-d259-4470-80f2-89b3d793513c"
      },
      "outputs": [
        {
          "output_type": "display_data",
          "data": {
            "text/plain": [
              "<Figure size 600x400 with 1 Axes>"
            ],
            "image/png": "[encoded data removed]"
          },
          "metadata": {
            "needs_background": "light"
          }
        }
      ],
      "source": [
        "plt.figure(dpi=100)\n",
        "df2.MARRIAGE.value_counts()\n",
        "sns.countplot(x=\"MARRIAGE\", hue=\"default\", data=df2)\n",
        "plt.xlabel(\"Marriage\")\n",
        "plt.ylabel(\"Count\")\n",
        "plt.show()"
      ]
    },
    {
      "cell_type": "code",
      "execution_count": 19,
      "id": "57e4f7a5",
      "metadata": {
        "execution": {
          "iopub.execute_input": "2022-04-29T19:36:40.293312Z",
          "iopub.status.busy": "2022-04-29T19:36:40.292733Z",
          "iopub.status.idle": "2022-04-29T19:36:41.124733Z",
          "shell.execute_reply": "2022-04-29T19:36:41.123378Z"
        },
        "papermill": {
          "duration": 0.916428,
          "end_time": "2022-04-29T19:36:41.127296",
          "exception": false,
          "start_time": "2022-04-29T19:36:40.210868",
          "status": "completed"
        },
        "tags": [],
        "colab": {
          "base_uri": "https://localhost:8080/",
          "height": 334
        },
        "id": "57e4f7a5",
        "outputId": "dd08a038-e796-4dfd-89cf-0503c9bf0700"
      },
      "outputs": [
        {
          "output_type": "display_data",
          "data": {
            "text/plain": [
              "<Figure size 1296x360 with 1 Axes>"
            ],
            "image/png": "[encoded data removed]"
          },
          "metadata": {
            "needs_background": "light"
          }
        }
      ],
      "source": [
        "plt.figure(figsize=(18,5))\n",
        "age=df2['AGE'].value_counts().reset_index()\n",
        "sns.barplot(x='index',y='AGE',data=age,orient='v')\n",
        "plt.xlabel(\"Age\")\n",
        "plt.ylabel(\"Count\")\n",
        "plt.show()"
      ]
    },
    {
      "cell_type": "code",
      "execution_count": 20,
      "id": "6d2daa76",
      "metadata": {
        "execution": {
          "iopub.execute_input": "2022-04-29T19:36:41.261183Z",
          "iopub.status.busy": "2022-04-29T19:36:41.260860Z",
          "iopub.status.idle": "2022-04-29T19:36:41.268848Z",
          "shell.execute_reply": "2022-04-29T19:36:41.267971Z"
        },
        "papermill": {
          "duration": 0.077023,
          "end_time": "2022-04-29T19:36:41.271026",
          "exception": false,
          "start_time": "2022-04-29T19:36:41.194003",
          "status": "completed"
        },
        "tags": [],
        "id": "6d2daa76"
      },
      "outputs": [],
      "source": [
        "df.drop(['ID'], axis=1, inplace=True) # Dropping unnecessary column"
      ]
    },
    {
      "cell_type": "markdown",
      "source": [
        "Handling Outlier:"
      ],
      "metadata": {
        "id": "V8DrixB8KgCY"
      },
      "id": "V8DrixB8KgCY"
    },
    {
      "cell_type": "code",
      "execution_count": 21,
      "id": "a838de46",
      "metadata": {
        "execution": {
          "iopub.execute_input": "2022-04-29T19:36:41.404509Z",
          "iopub.status.busy": "2022-04-29T19:36:41.404199Z",
          "iopub.status.idle": "2022-04-29T19:36:41.512162Z",
          "shell.execute_reply": "2022-04-29T19:36:41.511163Z"
        },
        "papermill": {
          "duration": 0.177377,
          "end_time": "2022-04-29T19:36:41.514409",
          "exception": false,
          "start_time": "2022-04-29T19:36:41.337032",
          "status": "completed"
        },
        "tags": [],
        "id": "a838de46"
      },
      "outputs": [],
      "source": [
        "def outlier_capping(x):\n",
        "    x=x.clip(upper=x.quantile(0.99))\n",
        "    x=x.clip(lower=x.quantile(0.01))\n",
        "    return x\n",
        "df=df.apply(outlier_capping)"
      ]
    },
    {
      "cell_type": "code",
      "execution_count": 22,
      "id": "a5e06d2a",
      "metadata": {
        "execution": {
          "iopub.execute_input": "2022-04-29T19:36:41.646637Z",
          "iopub.status.busy": "2022-04-29T19:36:41.645806Z",
          "iopub.status.idle": "2022-04-29T19:36:41.690612Z",
          "shell.execute_reply": "2022-04-29T19:36:41.689803Z"
        },
        "papermill": {
          "duration": 0.113349,
          "end_time": "2022-04-29T19:36:41.693109",
          "exception": false,
          "start_time": "2022-04-29T19:36:41.579760",
          "status": "completed"
        },
        "tags": [],
        "colab": {
          "base_uri": "https://localhost:8080/",
          "height": 487
        },
        "id": "a5e06d2a",
        "outputId": "5409615c-8844-4d8d-80a0-a931baa4a1e1"
      },
      "outputs": [
        {
          "output_type": "execute_result",
          "data": {
            "text/plain": [
              "       LIMIT_BAL  SEX  EDUCATION  MARRIAGE   AGE  PAY_0  PAY_2  PAY_3  PAY_4  \\\n",
              "0        20000.0    2          2         1  24.0    2.0    2.0   -1.0   -1.0   \n",
              "1       120000.0    2          2         2  26.0   -1.0    2.0    0.0    0.0   \n",
              "2        90000.0    2          2         2  34.0    0.0    0.0    0.0    0.0   \n",
              "3        50000.0    2          2         1  37.0    0.0    0.0    0.0    0.0   \n",
              "4        50000.0    1          2         1  57.0   -1.0    0.0   -1.0    0.0   \n",
              "...          ...  ...        ...       ...   ...    ...    ...    ...    ...   \n",
              "29995   220000.0    1          3         1  39.0    0.0    0.0    0.0    0.0   \n",
              "29996   150000.0    1          3         2  43.0   -1.0   -1.0   -1.0   -1.0   \n",
              "29997    30000.0    1          2         2  37.0    3.0    3.0    2.0   -1.0   \n",
              "29998    80000.0    1          3         1  41.0    1.0   -1.0    0.0    0.0   \n",
              "29999    50000.0    1          2         1  46.0    0.0    0.0    0.0    0.0   \n",
              "\n",
              "       PAY_5  ...  BILL_AMT4  BILL_AMT5  BILL_AMT6  PAY_AMT1  PAY_AMT2  \\\n",
              "0       -2.0  ...        0.0        0.0        0.0      0.00     689.0   \n",
              "1        0.0  ...     3272.0     3455.0     3261.0      0.00    1000.0   \n",
              "2        0.0  ...    14331.0    14948.0    15549.0   1518.00    1500.0   \n",
              "3        0.0  ...    28314.0    28959.0    29547.0   2000.00    2019.0   \n",
              "4        0.0  ...    20940.0    19146.0    19131.0   2000.00   36681.0   \n",
              "...      ...  ...        ...        ...        ...       ...       ...   \n",
              "29995    0.0  ...    88004.0    31237.0    15980.0   8500.00   20000.0   \n",
              "29996    0.0  ...     8979.0     5190.0        0.0   1837.00    3526.0   \n",
              "29997    0.0  ...    20878.0    20582.0    19357.0      0.00       0.0   \n",
              "29998    0.0  ...    52774.0    11855.0    48944.0  66522.18    3409.0   \n",
              "29999    0.0  ...    36535.0    32428.0    15313.0   2078.00    1800.0   \n",
              "\n",
              "       PAY_AMT3  PAY_AMT4  PAY_AMT5  PAY_AMT6  default  \n",
              "0           0.0       0.0       0.0       0.0        1  \n",
              "1        1000.0    1000.0       0.0    2000.0        1  \n",
              "2        1000.0    1000.0    1000.0    5000.0        0  \n",
              "3        1200.0    1100.0    1069.0    1000.0        0  \n",
              "4       10000.0    9000.0     689.0     679.0        0  \n",
              "...         ...       ...       ...       ...      ...  \n",
              "29995    5003.0    3047.0    5000.0    1000.0        0  \n",
              "29996    8998.0     129.0       0.0       0.0        0  \n",
              "29997   22000.0    4200.0    2000.0    3100.0        1  \n",
              "29998    1178.0    1926.0   52964.0    1804.0        1  \n",
              "29999    1430.0    1000.0    1000.0    1000.0        1  \n",
              "\n",
              "[30000 rows x 24 columns]"
            ],
            "text/html": [
              "\n",
              "  <div id=\"df-81f98d15-ce5a-4918-af55-3c6a33cf22fd\">\n",
              "    <div class=\"colab-df-container\">\n",
              "      <div>\n",
              "<style scoped>\n",
              "    .dataframe tbody tr th:only-of-type {\n",
              "        vertical-align: middle;\n",
              "    }\n",
              "\n",
              "    .dataframe tbody tr th {\n",
              "        vertical-align: top;\n",
              "    }\n",
              "\n",
              "    .dataframe thead th {\n",
              "        text-align: right;\n",
              "    }\n",
              "</style>\n",
              "<table border=\"1\" class=\"dataframe\">\n",
              "  <thead>\n",
              "    <tr style=\"text-align: right;\">\n",
              "      <th></th>\n",
              "      <th>LIMIT_BAL</th>\n",
              "      <th>SEX</th>\n",
              "      <th>EDUCATION</th>\n",
              "      <th>MARRIAGE</th>\n",
              "      <th>AGE</th>\n",
              "      <th>PAY_0</th>\n",
              "      <th>PAY_2</th>\n",
              "      <th>PAY_3</th>\n",
              "      <th>PAY_4</th>\n",
              "      <th>PAY_5</th>\n",
              "      <th>...</th>\n",
              "      <th>BILL_AMT4</th>\n",
              "      <th>BILL_AMT5</th>\n",
              "      <th>BILL_AMT6</th>\n",
              "      <th>PAY_AMT1</th>\n",
              "      <th>PAY_AMT2</th>\n",
              "      <th>PAY_AMT3</th>\n",
              "      <th>PAY_AMT4</th>\n",
              "      <th>PAY_AMT5</th>\n",
              "      <th>PAY_AMT6</th>\n",
              "      <th>default</th>\n",
              "    </tr>\n",
              "  </thead>\n",
              "  <tbody>\n",
              "    <tr>\n",
              "      <th>0</th>\n",
              "      <td>20000.0</td>\n",
              "      <td>2</td>\n",
              "      <td>2</td>\n",
              "      <td>1</td>\n",
              "      <td>24.0</td>\n",
              "      <td>2.0</td>\n",
              "      <td>2.0</td>\n",
              "      <td>-1.0</td>\n",
              "      <td>-1.0</td>\n",
              "      <td>-2.0</td>\n",
              "      <td>...</td>\n",
              "      <td>0.0</td>\n",
              "      <td>0.0</td>\n",
              "      <td>0.0</td>\n",
              "      <td>0.00</td>\n",
              "      <td>689.0</td>\n",
              "      <td>0.0</td>\n",
              "      <td>0.0</td>\n",
              "      <td>0.0</td>\n",
              "      <td>0.0</td>\n",
              "      <td>1</td>\n",
              "    </tr>\n",
              "    <tr>\n",
              "      <th>1</th>\n",
              "      <td>120000.0</td>\n",
              "      <td>2</td>\n",
              "      <td>2</td>\n",
              "      <td>2</td>\n",
              "      <td>26.0</td>\n",
              "      <td>-1.0</td>\n",
              "      <td>2.0</td>\n",
              "      <td>0.0</td>\n",
              "      <td>0.0</td>\n",
              "      <td>0.0</td>\n",
              "      <td>...</td>\n",
              "      <td>3272.0</td>\n",
              "      <td>3455.0</td>\n",
              "      <td>3261.0</td>\n",
              "      <td>0.00</td>\n",
              "      <td>1000.0</td>\n",
              "      <td>1000.0</td>\n",
              "      <td>1000.0</td>\n",
              "      <td>0.0</td>\n",
              "      <td>2000.0</td>\n",
              "      <td>1</td>\n",
              "    </tr>\n",
              "    <tr>\n",
              "      <th>2</th>\n",
              "      <td>90000.0</td>\n",
              "      <td>2</td>\n",
              "      <td>2</td>\n",
              "      <td>2</td>\n",
              "      <td>34.0</td>\n",
              "      <td>0.0</td>\n",
              "      <td>0.0</td>\n",
              "      <td>0.0</td>\n",
              "      <td>0.0</td>\n",
              "      <td>0.0</td>\n",
              "      <td>...</td>\n",
              "      <td>14331.0</td>\n",
              "      <td>14948.0</td>\n",
              "      <td>15549.0</td>\n",
              "      <td>1518.00</td>\n",
              "      <td>1500.0</td>\n",
              "      <td>1000.0</td>\n",
              "      <td>1000.0</td>\n",
              "      <td>1000.0</td>\n",
              "      <td>5000.0</td>\n",
              "      <td>0</td>\n",
              "    </tr>\n",
              "    <tr>\n",
              "      <th>3</th>\n",
              "      <td>50000.0</td>\n",
              "      <td>2</td>\n",
              "      <td>2</td>\n",
              "      <td>1</td>\n",
              "      <td>37.0</td>\n",
              "      <td>0.0</td>\n",
              "      <td>0.0</td>\n",
              "      <td>0.0</td>\n",
              "      <td>0.0</td>\n",
              "      <td>0.0</td>\n",
              "      <td>...</td>\n",
              "      <td>28314.0</td>\n",
              "      <td>28959.0</td>\n",
              "      <td>29547.0</td>\n",
              "      <td>2000.00</td>\n",
              "      <td>2019.0</td>\n",
              "      <td>1200.0</td>\n",
              "      <td>1100.0</td>\n",
              "      <td>1069.0</td>\n",
              "      <td>1000.0</td>\n",
              "      <td>0</td>\n",
              "    </tr>\n",
              "    <tr>\n",
              "      <th>4</th>\n",
              "      <td>50000.0</td>\n",
              "      <td>1</td>\n",
              "      <td>2</td>\n",
              "      <td>1</td>\n",
              "      <td>57.0</td>\n",
              "      <td>-1.0</td>\n",
              "      <td>0.0</td>\n",
              "      <td>-1.0</td>\n",
              "      <td>0.0</td>\n",
              "      <td>0.0</td>\n",
              "      <td>...</td>\n",
              "      <td>20940.0</td>\n",
              "      <td>19146.0</td>\n",
              "      <td>19131.0</td>\n",
              "      <td>2000.00</td>\n",
              "      <td>36681.0</td>\n",
              "      <td>10000.0</td>\n",
              "      <td>9000.0</td>\n",
              "      <td>689.0</td>\n",
              "      <td>679.0</td>\n",
              "      <td>0</td>\n",
              "    </tr>\n",
              "    <tr>\n",
              "      <th>...</th>\n",
              "      <td>...</td>\n",
              "      <td>...</td>\n",
              "      <td>...</td>\n",
              "      <td>...</td>\n",
              "      <td>...</td>\n",
              "      <td>...</td>\n",
              "      <td>...</td>\n",
              "      <td>...</td>\n",
              "      <td>...</td>\n",
              "      <td>...</td>\n",
              "      <td>...</td>\n",
              "      <td>...</td>\n",
              "      <td>...</td>\n",
              "      <td>...</td>\n",
              "      <td>...</td>\n",
              "      <td>...</td>\n",
              "      <td>...</td>\n",
              "      <td>...</td>\n",
              "      <td>...</td>\n",
              "      <td>...</td>\n",
              "      <td>...</td>\n",
              "    </tr>\n",
              "    <tr>\n",
              "      <th>29995</th>\n",
              "      <td>220000.0</td>\n",
              "      <td>1</td>\n",
              "      <td>3</td>\n",
              "      <td>1</td>\n",
              "      <td>39.0</td>\n",
              "      <td>0.0</td>\n",
              "      <td>0.0</td>\n",
              "      <td>0.0</td>\n",
              "      <td>0.0</td>\n",
              "      <td>0.0</td>\n",
              "      <td>...</td>\n",
              "      <td>88004.0</td>\n",
              "      <td>31237.0</td>\n",
              "      <td>15980.0</td>\n",
              "      <td>8500.00</td>\n",
              "      <td>20000.0</td>\n",
              "      <td>5003.0</td>\n",
              "      <td>3047.0</td>\n",
              "      <td>5000.0</td>\n",
              "      <td>1000.0</td>\n",
              "      <td>0</td>\n",
              "    </tr>\n",
              "    <tr>\n",
              "      <th>29996</th>\n",
              "      <td>150000.0</td>\n",
              "      <td>1</td>\n",
              "      <td>3</td>\n",
              "      <td>2</td>\n",
              "      <td>43.0</td>\n",
              "      <td>-1.0</td>\n",
              "      <td>-1.0</td>\n",
              "      <td>-1.0</td>\n",
              "      <td>-1.0</td>\n",
              "      <td>0.0</td>\n",
              "      <td>...</td>\n",
              "      <td>8979.0</td>\n",
              "      <td>5190.0</td>\n",
              "      <td>0.0</td>\n",
              "      <td>1837.00</td>\n",
              "      <td>3526.0</td>\n",
              "      <td>8998.0</td>\n",
              "      <td>129.0</td>\n",
              "      <td>0.0</td>\n",
              "      <td>0.0</td>\n",
              "      <td>0</td>\n",
              "    </tr>\n",
              "    <tr>\n",
              "      <th>29997</th>\n",
              "      <td>30000.0</td>\n",
              "      <td>1</td>\n",
              "      <td>2</td>\n",
              "      <td>2</td>\n",
              "      <td>37.0</td>\n",
              "      <td>3.0</td>\n",
              "      <td>3.0</td>\n",
              "      <td>2.0</td>\n",
              "      <td>-1.0</td>\n",
              "      <td>0.0</td>\n",
              "      <td>...</td>\n",
              "      <td>20878.0</td>\n",
              "      <td>20582.0</td>\n",
              "      <td>19357.0</td>\n",
              "      <td>0.00</td>\n",
              "      <td>0.0</td>\n",
              "      <td>22000.0</td>\n",
              "      <td>4200.0</td>\n",
              "      <td>2000.0</td>\n",
              "      <td>3100.0</td>\n",
              "      <td>1</td>\n",
              "    </tr>\n",
              "    <tr>\n",
              "      <th>29998</th>\n",
              "      <td>80000.0</td>\n",
              "      <td>1</td>\n",
              "      <td>3</td>\n",
              "      <td>1</td>\n",
              "      <td>41.0</td>\n",
              "      <td>1.0</td>\n",
              "      <td>-1.0</td>\n",
              "      <td>0.0</td>\n",
              "      <td>0.0</td>\n",
              "      <td>0.0</td>\n",
              "      <td>...</td>\n",
              "      <td>52774.0</td>\n",
              "      <td>11855.0</td>\n",
              "      <td>48944.0</td>\n",
              "      <td>66522.18</td>\n",
              "      <td>3409.0</td>\n",
              "      <td>1178.0</td>\n",
              "      <td>1926.0</td>\n",
              "      <td>52964.0</td>\n",
              "      <td>1804.0</td>\n",
              "      <td>1</td>\n",
              "    </tr>\n",
              "    <tr>\n",
              "      <th>29999</th>\n",
              "      <td>50000.0</td>\n",
              "      <td>1</td>\n",
              "      <td>2</td>\n",
              "      <td>1</td>\n",
              "      <td>46.0</td>\n",
              "      <td>0.0</td>\n",
              "      <td>0.0</td>\n",
              "      <td>0.0</td>\n",
              "      <td>0.0</td>\n",
              "      <td>0.0</td>\n",
              "      <td>...</td>\n",
              "      <td>36535.0</td>\n",
              "      <td>32428.0</td>\n",
              "      <td>15313.0</td>\n",
              "      <td>2078.00</td>\n",
              "      <td>1800.0</td>\n",
              "      <td>1430.0</td>\n",
              "      <td>1000.0</td>\n",
              "      <td>1000.0</td>\n",
              "      <td>1000.0</td>\n",
              "      <td>1</td>\n",
              "    </tr>\n",
              "  </tbody>\n",
              "</table>\n",
              "<p>30000 rows × 24 columns</p>\n",
              "</div>\n",
              "      <button class=\"colab-df-convert\" onclick=\"convertToInteractive('df-81f98d15-ce5a-4918-af55-3c6a33cf22fd')\"\n",
              "              title=\"Convert this dataframe to an interactive table.\"\n",
              "              style=\"display:none;\">\n",
              "        \n",
              "  <svg xmlns=\"http://www.w3.org/2000/svg\" height=\"24px\"viewBox=\"0 0 24 24\"\n",
              "       width=\"24px\">\n",
              "    <path d=\"M0 0h24v24H0V0z\" fill=\"none\"/>\n",
              "    <path d=\"M18.56 5.44l.94 2.06.94-2.06 2.06-.94-2.06-.94-.94-2.06-.94 2.06-2.06.94zm-11 1L8.5 8.5l.94-2.06 2.06-.94-2.06-.94L8.5 2.5l-.94 2.06-2.06.94zm10 10l.94 2.06.94-2.06 2.06-.94-2.06-.94-.94-2.06-.94 2.06-2.06.94z\"/><path d=\"M17.41 7.96l-1.37-1.37c-.4-.4-.92-.59-1.43-.59-.52 0-1.04.2-1.43.59L10.3 9.45l-7.72 7.72c-.78.78-.78 2.05 0 2.83L4 21.41c.39.39.9.59 1.41.59.51 0 1.02-.2 1.41-.59l7.78-7.78 2.81-2.81c.8-.78.8-2.07 0-2.86zM5.41 20L4 18.59l7.72-7.72 1.47 1.35L5.41 20z\"/>\n",
              "  </svg>\n",
              "      </button>\n",
              "      \n",
              "  <style>\n",
              "    .colab-df-container {\n",
              "      display:flex;\n",
              "      flex-wrap:wrap;\n",
              "      gap: 12px;\n",
              "    }\n",
              "\n",
              "    .colab-df-convert {\n",
              "      background-color: #E8F0FE;\n",
              "      border: none;\n",
              "      border-radius: 50%;\n",
              "      cursor: pointer;\n",
              "      display: none;\n",
              "      fill: #1967D2;\n",
              "      height: 32px;\n",
              "      padding: 0 0 0 0;\n",
              "      width: 32px;\n",
              "    }\n",
              "\n",
              "    .colab-df-convert:hover {\n",
              "      background-color: #E2EBFA;\n",
              "      box-shadow: 0px 1px 2px rgba(60, 64, 67, 0.3), 0px 1px 3px 1px rgba(60, 64, 67, 0.15);\n",
              "      fill: #174EA6;\n",
              "    }\n",
              "\n",
              "    [theme=dark] .colab-df-convert {\n",
              "      background-color: #3B4455;\n",
              "      fill: #D2E3FC;\n",
              "    }\n",
              "\n",
              "    [theme=dark] .colab-df-convert:hover {\n",
              "      background-color: #434B5C;\n",
              "      box-shadow: 0px 1px 3px 1px rgba(0, 0, 0, 0.15);\n",
              "      filter: drop-shadow(0px 1px 2px rgba(0, 0, 0, 0.3));\n",
              "      fill: #FFFFFF;\n",
              "    }\n",
              "  </style>\n",
              "\n",
              "      <script>\n",
              "        const buttonEl =\n",
              "          document.querySelector('#df-81f98d15-ce5a-4918-af55-3c6a33cf22fd button.colab-df-convert');\n",
              "        buttonEl.style.display =\n",
              "          google.colab.kernel.accessAllowed ? 'block' : 'none';\n",
              "\n",
              "        async function convertToInteractive(key) {\n",
              "          const element = document.querySelector('#df-81f98d15-ce5a-4918-af55-3c6a33cf22fd');\n",
              "          const dataTable =\n",
              "            await google.colab.kernel.invokeFunction('convertToInteractive',\n",
              "                                                     [key], {});\n",
              "          if (!dataTable) return;\n",
              "\n",
              "          const docLinkHtml = 'Like what you see? Visit the ' +\n",
              "            '<a target=\"_blank\" href=https://colab.research.google.com/notebooks/data_table.ipynb>data table notebook</a>'\n",
              "            + ' to learn more about interactive tables.';\n",
              "          element.innerHTML = '';\n",
              "          dataTable['output_type'] = 'display_data';\n",
              "          await google.colab.output.renderOutput(dataTable, element);\n",
              "          const docLink = document.createElement('div');\n",
              "          docLink.innerHTML = docLinkHtml;\n",
              "          element.appendChild(docLink);\n",
              "        }\n",
              "      </script>\n",
              "    </div>\n",
              "  </div>\n",
              "  "
            ]
          },
          "metadata": {},
          "execution_count": 22
        }
      ],
      "source": [
        "df"
      ]
    },
    {
      "cell_type": "markdown",
      "id": "fd79315a",
      "metadata": {
        "papermill": {
          "duration": 0.065886,
          "end_time": "2022-04-29T19:36:41.824901",
          "exception": false,
          "start_time": "2022-04-29T19:36:41.759015",
          "status": "completed"
        },
        "tags": [],
        "id": "fd79315a"
      },
      "source": [
        "### Feature Engineering"
      ]
    },
    {
      "cell_type": "code",
      "execution_count": 23,
      "id": "8e2f075d",
      "metadata": {
        "execution": {
          "iopub.execute_input": "2022-04-29T19:36:41.961673Z",
          "iopub.status.busy": "2022-04-29T19:36:41.961047Z",
          "iopub.status.idle": "2022-04-29T19:36:44.529752Z",
          "shell.execute_reply": "2022-04-29T19:36:44.528804Z"
        },
        "papermill": {
          "duration": 2.640418,
          "end_time": "2022-04-29T19:36:44.533096",
          "exception": false,
          "start_time": "2022-04-29T19:36:41.892678",
          "status": "completed"
        },
        "tags": [],
        "colab": {
          "base_uri": "https://localhost:8080/",
          "height": 644
        },
        "id": "8e2f075d",
        "outputId": "2a20e851-739d-4bbb-999e-d81250633f35"
      },
      "outputs": [
        {
          "output_type": "display_data",
          "data": {
            "text/plain": [
              "<Figure size 1152x720 with 2 Axes>"
            ],
            "image/png": "[encoded data removed]"
          },
          "metadata": {
            "needs_background": "light"
          }
        }
      ],
      "source": [
        "plt.figure (figsize= (16,10))\n",
        "sns.heatmap(df.corr(),linewidths=.5,annot=True)\n",
        "plt.show()"
      ]
    },
    {
      "cell_type": "code",
      "execution_count": 24,
      "id": "73e7659a",
      "metadata": {
        "execution": {
          "iopub.execute_input": "2022-04-29T19:36:44.686706Z",
          "iopub.status.busy": "2022-04-29T19:36:44.686135Z",
          "iopub.status.idle": "2022-04-29T19:36:44.728748Z",
          "shell.execute_reply": "2022-04-29T19:36:44.728003Z"
        },
        "papermill": {
          "duration": 0.12129,
          "end_time": "2022-04-29T19:36:44.731122",
          "exception": false,
          "start_time": "2022-04-29T19:36:44.609832",
          "status": "completed"
        },
        "tags": [],
        "id": "73e7659a"
      },
      "outputs": [],
      "source": [
        "df1=df.copy() # One-hot encoding\n",
        "df1 = pd.get_dummies(df1, columns=[\"SEX\"])\n",
        "df1 = pd.get_dummies(df1, columns=[\"EDUCATION\"])\n",
        "df1 = pd.get_dummies(df1, columns=[\"MARRIAGE\"])"
      ]
    },
    {
      "cell_type": "code",
      "execution_count": 25,
      "id": "f35e130c",
      "metadata": {
        "execution": {
          "iopub.execute_input": "2022-04-29T19:36:44.883503Z",
          "iopub.status.busy": "2022-04-29T19:36:44.882920Z",
          "iopub.status.idle": "2022-04-29T19:36:44.919591Z",
          "shell.execute_reply": "2022-04-29T19:36:44.918770Z"
        },
        "papermill": {
          "duration": 0.116029,
          "end_time": "2022-04-29T19:36:44.921829",
          "exception": false,
          "start_time": "2022-04-29T19:36:44.805800",
          "status": "completed"
        },
        "tags": [],
        "colab": {
          "base_uri": "https://localhost:8080/",
          "height": 487
        },
        "id": "f35e130c",
        "outputId": "78f3544e-110a-428b-bf74-f77383015512"
      },
      "outputs": [
        {
          "output_type": "execute_result",
          "data": {
            "text/plain": [
              "       LIMIT_BAL   AGE  PAY_0  PAY_2  PAY_3  PAY_4  PAY_5  PAY_6  BILL_AMT1  \\\n",
              "0        20000.0  24.0    2.0    2.0   -1.0   -1.0   -2.0   -2.0     3913.0   \n",
              "1       120000.0  26.0   -1.0    2.0    0.0    0.0    0.0    2.0     2682.0   \n",
              "2        90000.0  34.0    0.0    0.0    0.0    0.0    0.0    0.0    29239.0   \n",
              "3        50000.0  37.0    0.0    0.0    0.0    0.0    0.0    0.0    46990.0   \n",
              "4        50000.0  57.0   -1.0    0.0   -1.0    0.0    0.0    0.0     8617.0   \n",
              "...          ...   ...    ...    ...    ...    ...    ...    ...        ...   \n",
              "29995   220000.0  39.0    0.0    0.0    0.0    0.0    0.0    0.0   188948.0   \n",
              "29996   150000.0  43.0   -1.0   -1.0   -1.0   -1.0    0.0    0.0     1683.0   \n",
              "29997    30000.0  37.0    3.0    3.0    2.0   -1.0    0.0    0.0     3565.0   \n",
              "29998    80000.0  41.0    1.0   -1.0    0.0    0.0    0.0   -1.0      -81.0   \n",
              "29999    50000.0  46.0    0.0    0.0    0.0    0.0    0.0    0.0    47929.0   \n",
              "\n",
              "       BILL_AMT2  ...  default  SEX_1  SEX_2  EDUCATION_1  EDUCATION_2  \\\n",
              "0         3102.0  ...        1      0      1            0            1   \n",
              "1         1725.0  ...        1      0      1            0            1   \n",
              "2        14027.0  ...        0      0      1            0            1   \n",
              "3        48233.0  ...        0      0      1            0            1   \n",
              "4         5670.0  ...        0      1      0            0            1   \n",
              "...          ...  ...      ...    ...    ...          ...          ...   \n",
              "29995   192815.0  ...        0      1      0            0            0   \n",
              "29996     1828.0  ...        0      1      0            0            0   \n",
              "29997     3356.0  ...        1      1      0            0            1   \n",
              "29998    78379.0  ...        1      1      0            0            0   \n",
              "29999    48905.0  ...        1      1      0            0            1   \n",
              "\n",
              "       EDUCATION_3  EDUCATION_4  MARRIAGE_1  MARRIAGE_2  MARRIAGE_3  \n",
              "0                0            0           1           0           0  \n",
              "1                0            0           0           1           0  \n",
              "2                0            0           0           1           0  \n",
              "3                0            0           1           0           0  \n",
              "4                0            0           1           0           0  \n",
              "...            ...          ...         ...         ...         ...  \n",
              "29995            1            0           1           0           0  \n",
              "29996            1            0           0           1           0  \n",
              "29997            0            0           0           1           0  \n",
              "29998            1            0           1           0           0  \n",
              "29999            0            0           1           0           0  \n",
              "\n",
              "[30000 rows x 30 columns]"
            ],
            "text/html": [
              "\n",
              "  <div id=\"df-25828a80-432d-47d3-bee7-cae321c89988\">\n",
              "    <div class=\"colab-df-container\">\n",
              "      <div>\n",
              "<style scoped>\n",
              "    .dataframe tbody tr th:only-of-type {\n",
              "        vertical-align: middle;\n",
              "    }\n",
              "\n",
              "    .dataframe tbody tr th {\n",
              "        vertical-align: top;\n",
              "    }\n",
              "\n",
              "    .dataframe thead th {\n",
              "        text-align: right;\n",
              "    }\n",
              "</style>\n",
              "<table border=\"1\" class=\"dataframe\">\n",
              "  <thead>\n",
              "    <tr style=\"text-align: right;\">\n",
              "      <th></th>\n",
              "      <th>LIMIT_BAL</th>\n",
              "      <th>AGE</th>\n",
              "      <th>PAY_0</th>\n",
              "      <th>PAY_2</th>\n",
              "      <th>PAY_3</th>\n",
              "      <th>PAY_4</th>\n",
              "      <th>PAY_5</th>\n",
              "      <th>PAY_6</th>\n",
              "      <th>BILL_AMT1</th>\n",
              "      <th>BILL_AMT2</th>\n",
              "      <th>...</th>\n",
              "      <th>default</th>\n",
              "      <th>SEX_1</th>\n",
              "      <th>SEX_2</th>\n",
              "      <th>EDUCATION_1</th>\n",
              "      <th>EDUCATION_2</th>\n",
              "      <th>EDUCATION_3</th>\n",
              "      <th>EDUCATION_4</th>\n",
              "      <th>MARRIAGE_1</th>\n",
              "      <th>MARRIAGE_2</th>\n",
              "      <th>MARRIAGE_3</th>\n",
              "    </tr>\n",
              "  </thead>\n",
              "  <tbody>\n",
              "    <tr>\n",
              "      <th>0</th>\n",
              "      <td>20000.0</td>\n",
              "      <td>24.0</td>\n",
              "      <td>2.0</td>\n",
              "      <td>2.0</td>\n",
              "      <td>-1.0</td>\n",
              "      <td>-1.0</td>\n",
              "      <td>-2.0</td>\n",
              "      <td>-2.0</td>\n",
              "      <td>3913.0</td>\n",
              "      <td>3102.0</td>\n",
              "      <td>...</td>\n",
              "      <td>1</td>\n",
              "      <td>0</td>\n",
              "      <td>1</td>\n",
              "      <td>0</td>\n",
              "      <td>1</td>\n",
              "      <td>0</td>\n",
              "      <td>0</td>\n",
              "      <td>1</td>\n",
              "      <td>0</td>\n",
              "      <td>0</td>\n",
              "    </tr>\n",
              "    <tr>\n",
              "      <th>1</th>\n",
              "      <td>120000.0</td>\n",
              "      <td>26.0</td>\n",
              "      <td>-1.0</td>\n",
              "      <td>2.0</td>\n",
              "      <td>0.0</td>\n",
              "      <td>0.0</td>\n",
              "      <td>0.0</td>\n",
              "      <td>2.0</td>\n",
              "      <td>2682.0</td>\n",
              "      <td>1725.0</td>\n",
              "      <td>...</td>\n",
              "      <td>1</td>\n",
              "      <td>0</td>\n",
              "      <td>1</td>\n",
              "      <td>0</td>\n",
              "      <td>1</td>\n",
              "      <td>0</td>\n",
              "      <td>0</td>\n",
              "      <td>0</td>\n",
              "      <td>1</td>\n",
              "      <td>0</td>\n",
              "    </tr>\n",
              "    <tr>\n",
              "      <th>2</th>\n",
              "      <td>90000.0</td>\n",
              "      <td>34.0</td>\n",
              "      <td>0.0</td>\n",
              "      <td>0.0</td>\n",
              "      <td>0.0</td>\n",
              "      <td>0.0</td>\n",
              "      <td>0.0</td>\n",
              "      <td>0.0</td>\n",
              "      <td>29239.0</td>\n",
              "      <td>14027.0</td>\n",
              "      <td>...</td>\n",
              "      <td>0</td>\n",
              "      <td>0</td>\n",
              "      <td>1</td>\n",
              "      <td>0</td>\n",
              "      <td>1</td>\n",
              "      <td>0</td>\n",
              "      <td>0</td>\n",
              "      <td>0</td>\n",
              "      <td>1</td>\n",
              "      <td>0</td>\n",
              "    </tr>\n",
              "    <tr>\n",
              "      <th>3</th>\n",
              "      <td>50000.0</td>\n",
              "      <td>37.0</td>\n",
              "      <td>0.0</td>\n",
              "      <td>0.0</td>\n",
              "      <td>0.0</td>\n",
              "      <td>0.0</td>\n",
              "      <td>0.0</td>\n",
              "      <td>0.0</td>\n",
              "      <td>46990.0</td>\n",
              "      <td>48233.0</td>\n",
              "      <td>...</td>\n",
              "      <td>0</td>\n",
              "      <td>0</td>\n",
              "      <td>1</td>\n",
              "      <td>0</td>\n",
              "      <td>1</td>\n",
              "      <td>0</td>\n",
              "      <td>0</td>\n",
              "      <td>1</td>\n",
              "      <td>0</td>\n",
              "      <td>0</td>\n",
              "    </tr>\n",
              "    <tr>\n",
              "      <th>4</th>\n",
              "      <td>50000.0</td>\n",
              "      <td>57.0</td>\n",
              "      <td>-1.0</td>\n",
              "      <td>0.0</td>\n",
              "      <td>-1.0</td>\n",
              "      <td>0.0</td>\n",
              "      <td>0.0</td>\n",
              "      <td>0.0</td>\n",
              "      <td>8617.0</td>\n",
              "      <td>5670.0</td>\n",
              "      <td>...</td>\n",
              "      <td>0</td>\n",
              "      <td>1</td>\n",
              "      <td>0</td>\n",
              "      <td>0</td>\n",
              "      <td>1</td>\n",
              "      <td>0</td>\n",
              "      <td>0</td>\n",
              "      <td>1</td>\n",
              "      <td>0</td>\n",
              "      <td>0</td>\n",
              "    </tr>\n",
              "    <tr>\n",
              "      <th>...</th>\n",
              "      <td>...</td>\n",
              "      <td>...</td>\n",
              "      <td>...</td>\n",
              "      <td>...</td>\n",
              "      <td>...</td>\n",
              "      <td>...</td>\n",
              "      <td>...</td>\n",
              "      <td>...</td>\n",
              "      <td>...</td>\n",
              "      <td>...</td>\n",
              "      <td>...</td>\n",
              "      <td>...</td>\n",
              "      <td>...</td>\n",
              "      <td>...</td>\n",
              "      <td>...</td>\n",
              "      <td>...</td>\n",
              "      <td>...</td>\n",
              "      <td>...</td>\n",
              "      <td>...</td>\n",
              "      <td>...</td>\n",
              "      <td>...</td>\n",
              "    </tr>\n",
              "    <tr>\n",
              "      <th>29995</th>\n",
              "      <td>220000.0</td>\n",
              "      <td>39.0</td>\n",
              "      <td>0.0</td>\n",
              "      <td>0.0</td>\n",
              "      <td>0.0</td>\n",
              "      <td>0.0</td>\n",
              "      <td>0.0</td>\n",
              "      <td>0.0</td>\n",
              "      <td>188948.0</td>\n",
              "      <td>192815.0</td>\n",
              "      <td>...</td>\n",
              "      <td>0</td>\n",
              "      <td>1</td>\n",
              "      <td>0</td>\n",
              "      <td>0</td>\n",
              "      <td>0</td>\n",
              "      <td>1</td>\n",
              "      <td>0</td>\n",
              "      <td>1</td>\n",
              "      <td>0</td>\n",
              "      <td>0</td>\n",
              "    </tr>\n",
              "    <tr>\n",
              "      <th>29996</th>\n",
              "      <td>150000.0</td>\n",
              "      <td>43.0</td>\n",
              "      <td>-1.0</td>\n",
              "      <td>-1.0</td>\n",
              "      <td>-1.0</td>\n",
              "      <td>-1.0</td>\n",
              "      <td>0.0</td>\n",
              "      <td>0.0</td>\n",
              "      <td>1683.0</td>\n",
              "      <td>1828.0</td>\n",
              "      <td>...</td>\n",
              "      <td>0</td>\n",
              "      <td>1</td>\n",
              "      <td>0</td>\n",
              "      <td>0</td>\n",
              "      <td>0</td>\n",
              "      <td>1</td>\n",
              "      <td>0</td>\n",
              "      <td>0</td>\n",
              "      <td>1</td>\n",
              "      <td>0</td>\n",
              "    </tr>\n",
              "    <tr>\n",
              "      <th>29997</th>\n",
              "      <td>30000.0</td>\n",
              "      <td>37.0</td>\n",
              "      <td>3.0</td>\n",
              "      <td>3.0</td>\n",
              "      <td>2.0</td>\n",
              "      <td>-1.0</td>\n",
              "      <td>0.0</td>\n",
              "      <td>0.0</td>\n",
              "      <td>3565.0</td>\n",
              "      <td>3356.0</td>\n",
              "      <td>...</td>\n",
              "      <td>1</td>\n",
              "      <td>1</td>\n",
              "      <td>0</td>\n",
              "      <td>0</td>\n",
              "      <td>1</td>\n",
              "      <td>0</td>\n",
              "      <td>0</td>\n",
              "      <td>0</td>\n",
              "      <td>1</td>\n",
              "      <td>0</td>\n",
              "    </tr>\n",
              "    <tr>\n",
              "      <th>29998</th>\n",
              "      <td>80000.0</td>\n",
              "      <td>41.0</td>\n",
              "      <td>1.0</td>\n",
              "      <td>-1.0</td>\n",
              "      <td>0.0</td>\n",
              "      <td>0.0</td>\n",
              "      <td>0.0</td>\n",
              "      <td>-1.0</td>\n",
              "      <td>-81.0</td>\n",
              "      <td>78379.0</td>\n",
              "      <td>...</td>\n",
              "      <td>1</td>\n",
              "      <td>1</td>\n",
              "      <td>0</td>\n",
              "      <td>0</td>\n",
              "      <td>0</td>\n",
              "      <td>1</td>\n",
              "      <td>0</td>\n",
              "      <td>1</td>\n",
              "      <td>0</td>\n",
              "      <td>0</td>\n",
              "    </tr>\n",
              "    <tr>\n",
              "      <th>29999</th>\n",
              "      <td>50000.0</td>\n",
              "      <td>46.0</td>\n",
              "      <td>0.0</td>\n",
              "      <td>0.0</td>\n",
              "      <td>0.0</td>\n",
              "      <td>0.0</td>\n",
              "      <td>0.0</td>\n",
              "      <td>0.0</td>\n",
              "      <td>47929.0</td>\n",
              "      <td>48905.0</td>\n",
              "      <td>...</td>\n",
              "      <td>1</td>\n",
              "      <td>1</td>\n",
              "      <td>0</td>\n",
              "      <td>0</td>\n",
              "      <td>1</td>\n",
              "      <td>0</td>\n",
              "      <td>0</td>\n",
              "      <td>1</td>\n",
              "      <td>0</td>\n",
              "      <td>0</td>\n",
              "    </tr>\n",
              "  </tbody>\n",
              "</table>\n",
              "<p>30000 rows × 30 columns</p>\n",
              "</div>\n",
              "      <button class=\"colab-df-convert\" onclick=\"convertToInteractive('df-25828a80-432d-47d3-bee7-cae321c89988')\"\n",
              "              title=\"Convert this dataframe to an interactive table.\"\n",
              "              style=\"display:none;\">\n",
              "        \n",
              "  <svg xmlns=\"http://www.w3.org/2000/svg\" height=\"24px\"viewBox=\"0 0 24 24\"\n",
              "       width=\"24px\">\n",
              "    <path d=\"M0 0h24v24H0V0z\" fill=\"none\"/>\n",
              "    <path d=\"M18.56 5.44l.94 2.06.94-2.06 2.06-.94-2.06-.94-.94-2.06-.94 2.06-2.06.94zm-11 1L8.5 8.5l.94-2.06 2.06-.94-2.06-.94L8.5 2.5l-.94 2.06-2.06.94zm10 10l.94 2.06.94-2.06 2.06-.94-2.06-.94-.94-2.06-.94 2.06-2.06.94z\"/><path d=\"M17.41 7.96l-1.37-1.37c-.4-.4-.92-.59-1.43-.59-.52 0-1.04.2-1.43.59L10.3 9.45l-7.72 7.72c-.78.78-.78 2.05 0 2.83L4 21.41c.39.39.9.59 1.41.59.51 0 1.02-.2 1.41-.59l7.78-7.78 2.81-2.81c.8-.78.8-2.07 0-2.86zM5.41 20L4 18.59l7.72-7.72 1.47 1.35L5.41 20z\"/>\n",
              "  </svg>\n",
              "      </button>\n",
              "      \n",
              "  <style>\n",
              "    .colab-df-container {\n",
              "      display:flex;\n",
              "      flex-wrap:wrap;\n",
              "      gap: 12px;\n",
              "    }\n",
              "\n",
              "    .colab-df-convert {\n",
              "      background-color: #E8F0FE;\n",
              "      border: none;\n",
              "      border-radius: 50%;\n",
              "      cursor: pointer;\n",
              "      display: none;\n",
              "      fill: #1967D2;\n",
              "      height: 32px;\n",
              "      padding: 0 0 0 0;\n",
              "      width: 32px;\n",
              "    }\n",
              "\n",
              "    .colab-df-convert:hover {\n",
              "      background-color: #E2EBFA;\n",
              "      box-shadow: 0px 1px 2px rgba(60, 64, 67, 0.3), 0px 1px 3px 1px rgba(60, 64, 67, 0.15);\n",
              "      fill: #174EA6;\n",
              "    }\n",
              "\n",
              "    [theme=dark] .colab-df-convert {\n",
              "      background-color: #3B4455;\n",
              "      fill: #D2E3FC;\n",
              "    }\n",
              "\n",
              "    [theme=dark] .colab-df-convert:hover {\n",
              "      background-color: #434B5C;\n",
              "      box-shadow: 0px 1px 3px 1px rgba(0, 0, 0, 0.15);\n",
              "      filter: drop-shadow(0px 1px 2px rgba(0, 0, 0, 0.3));\n",
              "      fill: #FFFFFF;\n",
              "    }\n",
              "  </style>\n",
              "\n",
              "      <script>\n",
              "        const buttonEl =\n",
              "          document.querySelector('#df-25828a80-432d-47d3-bee7-cae321c89988 button.colab-df-convert');\n",
              "        buttonEl.style.display =\n",
              "          google.colab.kernel.accessAllowed ? 'block' : 'none';\n",
              "\n",
              "        async function convertToInteractive(key) {\n",
              "          const element = document.querySelector('#df-25828a80-432d-47d3-bee7-cae321c89988');\n",
              "          const dataTable =\n",
              "            await google.colab.kernel.invokeFunction('convertToInteractive',\n",
              "                                                     [key], {});\n",
              "          if (!dataTable) return;\n",
              "\n",
              "          const docLinkHtml = 'Like what you see? Visit the ' +\n",
              "            '<a target=\"_blank\" href=https://colab.research.google.com/notebooks/data_table.ipynb>data table notebook</a>'\n",
              "            + ' to learn more about interactive tables.';\n",
              "          element.innerHTML = '';\n",
              "          dataTable['output_type'] = 'display_data';\n",
              "          await google.colab.output.renderOutput(dataTable, element);\n",
              "          const docLink = document.createElement('div');\n",
              "          docLink.innerHTML = docLinkHtml;\n",
              "          element.appendChild(docLink);\n",
              "        }\n",
              "      </script>\n",
              "    </div>\n",
              "  </div>\n",
              "  "
            ]
          },
          "metadata": {},
          "execution_count": 25
        }
      ],
      "source": [
        "df1"
      ]
    },
    {
      "cell_type": "markdown",
      "id": "37cd1f02",
      "metadata": {
        "papermill": {
          "duration": 0.07705,
          "end_time": "2022-04-29T19:36:45.076135",
          "exception": false,
          "start_time": "2022-04-29T19:36:44.999085",
          "status": "completed"
        },
        "tags": [],
        "id": "37cd1f02"
      },
      "source": [
        "### Splitting the data into train & test"
      ]
    },
    {
      "cell_type": "code",
      "execution_count": 26,
      "id": "3f86ff05",
      "metadata": {
        "execution": {
          "iopub.execute_input": "2022-04-29T19:36:45.233486Z",
          "iopub.status.busy": "2022-04-29T19:36:45.232941Z",
          "iopub.status.idle": "2022-04-29T19:36:45.243115Z",
          "shell.execute_reply": "2022-04-29T19:36:45.242199Z"
        },
        "papermill": {
          "duration": 0.090997,
          "end_time": "2022-04-29T19:36:45.245355",
          "exception": false,
          "start_time": "2022-04-29T19:36:45.154358",
          "status": "completed"
        },
        "tags": [],
        "id": "3f86ff05"
      },
      "outputs": [],
      "source": [
        "target = df1[['default']]\n",
        "features = df1.drop('default', axis=1)\n",
        "data_final = pd.concat([features, target], axis=1)"
      ]
    },
    {
      "cell_type": "code",
      "execution_count": 27,
      "id": "1f8665dd",
      "metadata": {
        "execution": {
          "iopub.execute_input": "2022-04-29T19:36:45.400038Z",
          "iopub.status.busy": "2022-04-29T19:36:45.399229Z",
          "iopub.status.idle": "2022-04-29T19:36:45.414314Z",
          "shell.execute_reply": "2022-04-29T19:36:45.413490Z"
        },
        "papermill": {
          "duration": 0.095243,
          "end_time": "2022-04-29T19:36:45.416730",
          "exception": false,
          "start_time": "2022-04-29T19:36:45.321487",
          "status": "completed"
        },
        "tags": [],
        "id": "1f8665dd"
      },
      "outputs": [],
      "source": [
        "#Splitting the data for sklearn methods\n",
        "train_y, test_y, train_X, test_X = train_test_split(target,features, test_size=0.3, random_state=123)"
      ]
    },
    {
      "cell_type": "markdown",
      "id": "860512bb",
      "metadata": {
        "papermill": {
          "duration": 0.07501,
          "end_time": "2022-04-29T19:36:45.568621",
          "exception": false,
          "start_time": "2022-04-29T19:36:45.493611",
          "status": "completed"
        },
        "tags": [],
        "id": "860512bb"
      },
      "source": [
        "### Logistic Regression"
      ]
    },
    {
      "cell_type": "code",
      "execution_count": 28,
      "id": "f826c21f",
      "metadata": {
        "execution": {
          "iopub.execute_input": "2022-04-29T19:36:45.721636Z",
          "iopub.status.busy": "2022-04-29T19:36:45.721364Z",
          "iopub.status.idle": "2022-04-29T19:36:46.184640Z",
          "shell.execute_reply": "2022-04-29T19:36:46.183657Z"
        },
        "papermill": {
          "duration": 0.543982,
          "end_time": "2022-04-29T19:36:46.188018",
          "exception": false,
          "start_time": "2022-04-29T19:36:45.644036",
          "status": "completed"
        },
        "tags": [],
        "colab": {
          "base_uri": "https://localhost:8080/"
        },
        "id": "f826c21f",
        "outputId": "2add6780-0aa2-421d-ef37-9b9ea00e94d9"
      },
      "outputs": [
        {
          "output_type": "stream",
          "name": "stdout",
          "text": [
            "              precision    recall  f1-score   support\n",
            "\n",
            "           0       1.00      0.78      0.87     20983\n",
            "           1       0.00      0.47      0.00        17\n",
            "\n",
            "    accuracy                           0.78     21000\n",
            "   macro avg       0.50      0.62      0.44     21000\n",
            "weighted avg       1.00      0.78      0.87     21000\n",
            "\n",
            "\n",
            "Accuracy Score for model1(training):  0.7767142857142857\n",
            "              precision    recall  f1-score   support\n",
            "\n",
            "           0       1.00      0.78      0.88      8995\n",
            "           1       0.00      0.80      0.00         5\n",
            "\n",
            "    accuracy                           0.78      9000\n",
            "   macro avg       0.50      0.79      0.44      9000\n",
            "weighted avg       1.00      0.78      0.88      9000\n",
            "\n",
            "\n",
            "Accuracy Score for model1(testing):  0.7838888888888889\n"
          ]
        }
      ],
      "source": [
        "accuracy={}\n",
        "model = LogisticRegression()\n",
        "model.fit(train_X, train_y)\n",
        "\n",
        "train_pred = model.predict(train_X)\n",
        "test_pred = model.predict(test_X)\n",
        "\n",
        "print(classification_report(train_pred, train_y))\n",
        "print('\\nAccuracy Score for model1(training): ', accuracy_score(train_pred, train_y))\n",
        "\n",
        "print(classification_report(test_pred, test_y))\n",
        "print('\\nAccuracy Score for model1(testing): ', accuracy_score(test_pred, test_y))"
      ]
    },
    {
      "cell_type": "markdown",
      "id": "f048c411",
      "metadata": {
        "papermill": {
          "duration": 0.076318,
          "end_time": "2022-04-29T19:36:46.347594",
          "exception": false,
          "start_time": "2022-04-29T19:36:46.271276",
          "status": "completed"
        },
        "tags": [],
        "id": "f048c411"
      },
      "source": [
        "### KNN"
      ]
    },
    {
      "cell_type": "code",
      "execution_count": 29,
      "id": "71544617",
      "metadata": {
        "execution": {
          "iopub.execute_input": "2022-04-29T19:36:46.502279Z",
          "iopub.status.busy": "2022-04-29T19:36:46.501779Z",
          "iopub.status.idle": "2022-04-29T19:36:46.522393Z",
          "shell.execute_reply": "2022-04-29T19:36:46.521495Z"
        },
        "papermill": {
          "duration": 0.101446,
          "end_time": "2022-04-29T19:36:46.524869",
          "exception": false,
          "start_time": "2022-04-29T19:36:46.423423",
          "status": "completed"
        },
        "tags": [],
        "id": "71544617"
      },
      "outputs": [],
      "source": [
        "sc = StandardScaler() #Standardization of data\n",
        "std_data = sc.fit_transform(train_X)"
      ]
    },
    {
      "cell_type": "code",
      "execution_count": 30,
      "id": "7c40b91d",
      "metadata": {
        "execution": {
          "iopub.execute_input": "2022-04-29T19:36:46.679447Z",
          "iopub.status.busy": "2022-04-29T19:36:46.678854Z",
          "iopub.status.idle": "2022-04-29T19:36:46.687559Z",
          "shell.execute_reply": "2022-04-29T19:36:46.686912Z"
        },
        "papermill": {
          "duration": 0.087942,
          "end_time": "2022-04-29T19:36:46.689750",
          "exception": false,
          "start_time": "2022-04-29T19:36:46.601808",
          "status": "completed"
        },
        "tags": [],
        "id": "7c40b91d"
      },
      "outputs": [],
      "source": [
        "std_data_train = pd.DataFrame(std_data, columns=train_X.columns, index = train_X.index )\n",
        "std_data_test = pd.DataFrame(sc.transform(test_X), columns=test_X.columns, index = test_X.index )"
      ]
    },
    {
      "cell_type": "code",
      "execution_count": 31,
      "id": "788dda5d",
      "metadata": {
        "execution": {
          "iopub.execute_input": "2022-04-29T19:36:46.843246Z",
          "iopub.status.busy": "2022-04-29T19:36:46.842946Z",
          "iopub.status.idle": "2022-04-29T19:39:23.496243Z",
          "shell.execute_reply": "2022-04-29T19:39:23.495310Z"
        },
        "papermill": {
          "duration": 156.732868,
          "end_time": "2022-04-29T19:39:23.498724",
          "exception": false,
          "start_time": "2022-04-29T19:36:46.765856",
          "status": "completed"
        },
        "tags": [],
        "id": "788dda5d"
      },
      "outputs": [],
      "source": [
        "param_grid = {'n_neighbors':[3,4,5,6,7,8,9,10,11,12],\n",
        "              'weights': ['uniform', 'distance']}\n",
        "model = GridSearchCV(KNeighborsClassifier(), param_grid = param_grid, cv=5, scoring = 'f1_weighted') #Using GridsearchCV with standrardized data\n",
        "model = model.fit(std_data_train, train_y) "
      ]
    },
    {
      "cell_type": "code",
      "execution_count": 32,
      "id": "3729069b",
      "metadata": {
        "execution": {
          "iopub.execute_input": "2022-04-29T19:39:23.653264Z",
          "iopub.status.busy": "2022-04-29T19:39:23.652479Z",
          "iopub.status.idle": "2022-04-29T19:39:23.658335Z",
          "shell.execute_reply": "2022-04-29T19:39:23.657458Z"
        },
        "papermill": {
          "duration": 0.084437,
          "end_time": "2022-04-29T19:39:23.660356",
          "exception": false,
          "start_time": "2022-04-29T19:39:23.575919",
          "status": "completed"
        },
        "tags": [],
        "colab": {
          "base_uri": "https://localhost:8080/"
        },
        "id": "3729069b",
        "outputId": "64d912dc-cb7c-4adc-df0d-91f9eecb96cf"
      },
      "outputs": [
        {
          "output_type": "execute_result",
          "data": {
            "text/plain": [
              "0.7801456177979154"
            ]
          },
          "metadata": {},
          "execution_count": 32
        }
      ],
      "source": [
        "model.best_score_"
      ]
    },
    {
      "cell_type": "code",
      "execution_count": 33,
      "id": "068baf2e",
      "metadata": {
        "execution": {
          "iopub.execute_input": "2022-04-29T19:39:23.814296Z",
          "iopub.status.busy": "2022-04-29T19:39:23.813806Z",
          "iopub.status.idle": "2022-04-29T19:39:23.819995Z",
          "shell.execute_reply": "2022-04-29T19:39:23.819121Z"
        },
        "papermill": {
          "duration": 0.08607,
          "end_time": "2022-04-29T19:39:23.822437",
          "exception": false,
          "start_time": "2022-04-29T19:39:23.736367",
          "status": "completed"
        },
        "tags": [],
        "colab": {
          "base_uri": "https://localhost:8080/"
        },
        "id": "068baf2e",
        "outputId": "a328d7e6-df62-46fd-f12b-fd38a8937bc1"
      },
      "outputs": [
        {
          "output_type": "execute_result",
          "data": {
            "text/plain": [
              "{'n_neighbors': 10, 'weights': 'distance'}"
            ]
          },
          "metadata": {},
          "execution_count": 33
        }
      ],
      "source": [
        "model.best_params_"
      ]
    },
    {
      "cell_type": "code",
      "execution_count": 34,
      "id": "e0e06c20",
      "metadata": {
        "execution": {
          "iopub.execute_input": "2022-04-29T19:39:23.978955Z",
          "iopub.status.busy": "2022-04-29T19:39:23.978219Z",
          "iopub.status.idle": "2022-04-29T19:39:37.527531Z",
          "shell.execute_reply": "2022-04-29T19:39:37.526551Z"
        },
        "papermill": {
          "duration": 13.630333,
          "end_time": "2022-04-29T19:39:37.530400",
          "exception": false,
          "start_time": "2022-04-29T19:39:23.900067",
          "status": "completed"
        },
        "tags": [],
        "id": "e0e06c20"
      },
      "outputs": [],
      "source": [
        "train_pred2 = model.predict(std_data_train)\n",
        "test_pred2 = model.predict(std_data_test)"
      ]
    },
    {
      "cell_type": "code",
      "execution_count": 35,
      "id": "a77334c3",
      "metadata": {
        "execution": {
          "iopub.execute_input": "2022-04-29T19:39:37.686488Z",
          "iopub.status.busy": "2022-04-29T19:39:37.686214Z",
          "iopub.status.idle": "2022-04-29T19:39:37.754297Z",
          "shell.execute_reply": "2022-04-29T19:39:37.753416Z"
        },
        "papermill": {
          "duration": 0.149703,
          "end_time": "2022-04-29T19:39:37.758398",
          "exception": false,
          "start_time": "2022-04-29T19:39:37.608695",
          "status": "completed"
        },
        "tags": [],
        "colab": {
          "base_uri": "https://localhost:8080/"
        },
        "id": "a77334c3",
        "outputId": "c26249fa-cdeb-4a7c-9721-71f7f208a1ee"
      },
      "outputs": [
        {
          "output_type": "stream",
          "name": "stdout",
          "text": [
            "              precision    recall  f1-score   support\n",
            "\n",
            "           0       1.00      1.00      1.00     16312\n",
            "           1       1.00      1.00      1.00      4688\n",
            "\n",
            "    accuracy                           1.00     21000\n",
            "   macro avg       1.00      1.00      1.00     21000\n",
            "weighted avg       1.00      1.00      1.00     21000\n",
            "\n",
            "\n",
            "Accuracy Score for model2(training):  0.9992857142857143\n",
            "              precision    recall  f1-score   support\n",
            "\n",
            "           0       0.83      0.94      0.88      7052\n",
            "           1       0.59      0.33      0.42      1948\n",
            "\n",
            "    accuracy                           0.80      9000\n",
            "   macro avg       0.71      0.63      0.65      9000\n",
            "weighted avg       0.78      0.80      0.78      9000\n",
            "\n",
            "\n",
            "Accuracy Score for model2(testing):  0.8042222222222222\n"
          ]
        }
      ],
      "source": [
        "print(metrics.classification_report(train_y, train_pred2))\n",
        "print('\\nAccuracy Score for model2(training): ', accuracy_score(train_pred2, train_y))\n",
        "\n",
        "print(metrics.classification_report(test_y, test_pred2))\n",
        "print('\\nAccuracy Score for model2(testing): ', accuracy_score(test_pred2, test_y))"
      ]
    },
    {
      "cell_type": "markdown",
      "id": "0954caca",
      "metadata": {
        "papermill": {
          "duration": 0.082437,
          "end_time": "2022-04-29T19:39:37.929913",
          "exception": false,
          "start_time": "2022-04-29T19:39:37.847476",
          "status": "completed"
        },
        "tags": [],
        "id": "0954caca"
      },
      "source": [
        "### Decision Tree"
      ]
    },
    {
      "cell_type": "code",
      "execution_count": 36,
      "id": "18e141bf",
      "metadata": {
        "execution": {
          "iopub.execute_input": "2022-04-29T19:39:38.096407Z",
          "iopub.status.busy": "2022-04-29T19:39:38.096097Z",
          "iopub.status.idle": "2022-04-29T19:39:38.100302Z",
          "shell.execute_reply": "2022-04-29T19:39:38.099473Z"
        },
        "papermill": {
          "duration": 0.08935,
          "end_time": "2022-04-29T19:39:38.102353",
          "exception": false,
          "start_time": "2022-04-29T19:39:38.013003",
          "status": "completed"
        },
        "tags": [],
        "id": "18e141bf"
      },
      "outputs": [],
      "source": [
        "param_grid = {'max_depth': np.arange(3, 5),\n",
        "             'max_features': np.arange(3,5)}"
      ]
    },
    {
      "cell_type": "code",
      "execution_count": 37,
      "id": "fd373829",
      "metadata": {
        "execution": {
          "iopub.execute_input": "2022-04-29T19:39:38.271416Z",
          "iopub.status.busy": "2022-04-29T19:39:38.270967Z",
          "iopub.status.idle": "2022-04-29T19:39:38.751346Z",
          "shell.execute_reply": "2022-04-29T19:39:38.750521Z"
        },
        "papermill": {
          "duration": 0.565448,
          "end_time": "2022-04-29T19:39:38.753462",
          "exception": false,
          "start_time": "2022-04-29T19:39:38.188014",
          "status": "completed"
        },
        "tags": [],
        "colab": {
          "base_uri": "https://localhost:8080/"
        },
        "id": "fd373829",
        "outputId": "8b235b7c-2a43-40e1-8ed5-0769640465fb"
      },
      "outputs": [
        {
          "output_type": "execute_result",
          "data": {
            "text/plain": [
              "GridSearchCV(cv=5, estimator=DecisionTreeClassifier(),\n",
              "             param_grid={'max_depth': array([3, 4]),\n",
              "                         'max_features': array([3, 4])})"
            ]
          },
          "metadata": {},
          "execution_count": 37
        }
      ],
      "source": [
        "tree = GridSearchCV(DecisionTreeClassifier(), param_grid, cv = 5)\n",
        "tree.fit( train_X, train_y )"
      ]
    },
    {
      "cell_type": "code",
      "execution_count": 38,
      "id": "30640dcc",
      "metadata": {
        "execution": {
          "iopub.execute_input": "2022-04-29T19:39:38.909353Z",
          "iopub.status.busy": "2022-04-29T19:39:38.908926Z",
          "iopub.status.idle": "2022-04-29T19:39:38.914072Z",
          "shell.execute_reply": "2022-04-29T19:39:38.913529Z"
        },
        "papermill": {
          "duration": 0.084868,
          "end_time": "2022-04-29T19:39:38.915844",
          "exception": false,
          "start_time": "2022-04-29T19:39:38.830976",
          "status": "completed"
        },
        "tags": [],
        "colab": {
          "base_uri": "https://localhost:8080/"
        },
        "id": "30640dcc",
        "outputId": "8f7629d1-5cc0-4c3c-e07f-3669d0df4dd2"
      },
      "outputs": [
        {
          "output_type": "execute_result",
          "data": {
            "text/plain": [
              "0.8064761904761906"
            ]
          },
          "metadata": {},
          "execution_count": 38
        }
      ],
      "source": [
        "tree.best_score_"
      ]
    },
    {
      "cell_type": "code",
      "execution_count": 39,
      "id": "5015b0a9",
      "metadata": {
        "execution": {
          "iopub.execute_input": "2022-04-29T19:39:39.075773Z",
          "iopub.status.busy": "2022-04-29T19:39:39.075227Z",
          "iopub.status.idle": "2022-04-29T19:39:39.080584Z",
          "shell.execute_reply": "2022-04-29T19:39:39.080027Z"
        },
        "papermill": {
          "duration": 0.088113,
          "end_time": "2022-04-29T19:39:39.082379",
          "exception": false,
          "start_time": "2022-04-29T19:39:38.994266",
          "status": "completed"
        },
        "tags": [],
        "colab": {
          "base_uri": "https://localhost:8080/"
        },
        "id": "5015b0a9",
        "outputId": "7c3e4f9a-4944-470f-fa36-9e596fed465a"
      },
      "outputs": [
        {
          "output_type": "execute_result",
          "data": {
            "text/plain": [
              "{'max_depth': 3, 'max_features': 4}"
            ]
          },
          "metadata": {},
          "execution_count": 39
        }
      ],
      "source": [
        "tree.best_params_"
      ]
    },
    {
      "cell_type": "code",
      "execution_count": 40,
      "id": "2d11c2c6",
      "metadata": {
        "execution": {
          "iopub.execute_input": "2022-04-29T19:39:39.240336Z",
          "iopub.status.busy": "2022-04-29T19:39:39.239819Z",
          "iopub.status.idle": "2022-04-29T19:39:39.272229Z",
          "shell.execute_reply": "2022-04-29T19:39:39.271607Z"
        },
        "papermill": {
          "duration": 0.114139,
          "end_time": "2022-04-29T19:39:39.274208",
          "exception": false,
          "start_time": "2022-04-29T19:39:39.160069",
          "status": "completed"
        },
        "tags": [],
        "colab": {
          "base_uri": "https://localhost:8080/"
        },
        "id": "2d11c2c6",
        "outputId": "ae03f187-5d6f-466f-d4b8-7f3f41b6f2c6"
      },
      "outputs": [
        {
          "output_type": "execute_result",
          "data": {
            "text/plain": [
              "DecisionTreeClassifier(max_depth=3, max_features=4)"
            ]
          },
          "metadata": {},
          "execution_count": 40
        }
      ],
      "source": [
        "clf_tree = DecisionTreeClassifier( max_depth = 3, max_features=4, criterion='gini' )\n",
        "train_X = train_X[train_X.columns.difference(['pred_prob'])]\n",
        "test_X = test_X[test_X.columns.difference(['pred_prob'])]\n",
        "clf_tree.fit( train_X, train_y )"
      ]
    },
    {
      "cell_type": "code",
      "execution_count": 41,
      "id": "27ccb2f8",
      "metadata": {
        "execution": {
          "iopub.execute_input": "2022-04-29T19:39:39.456339Z",
          "iopub.status.busy": "2022-04-29T19:39:39.455797Z",
          "iopub.status.idle": "2022-04-29T19:39:39.467507Z",
          "shell.execute_reply": "2022-04-29T19:39:39.466869Z"
        },
        "papermill": {
          "duration": 0.100128,
          "end_time": "2022-04-29T19:39:39.469729",
          "exception": false,
          "start_time": "2022-04-29T19:39:39.369601",
          "status": "completed"
        },
        "tags": [],
        "id": "27ccb2f8"
      },
      "outputs": [],
      "source": [
        "train_pred1 = clf_tree.predict(train_X)\n",
        "test_pred1 = clf_tree.predict(test_X)"
      ]
    },
    {
      "cell_type": "code",
      "execution_count": 42,
      "id": "12e5529d",
      "metadata": {
        "execution": {
          "iopub.execute_input": "2022-04-29T19:39:39.628811Z",
          "iopub.status.busy": "2022-04-29T19:39:39.628243Z",
          "iopub.status.idle": "2022-04-29T19:39:39.695958Z",
          "shell.execute_reply": "2022-04-29T19:39:39.694841Z"
        },
        "papermill": {
          "duration": 0.150559,
          "end_time": "2022-04-29T19:39:39.698462",
          "exception": false,
          "start_time": "2022-04-29T19:39:39.547903",
          "status": "completed"
        },
        "tags": [],
        "colab": {
          "base_uri": "https://localhost:8080/"
        },
        "id": "12e5529d",
        "outputId": "a6893351-4a6d-4695-8a9d-b6dd84d0cdab"
      },
      "outputs": [
        {
          "output_type": "stream",
          "name": "stdout",
          "text": [
            "              precision    recall  f1-score   support\n",
            "\n",
            "           0       0.82      0.95      0.88     16312\n",
            "           1       0.64      0.28      0.39      4688\n",
            "\n",
            "    accuracy                           0.80     21000\n",
            "   macro avg       0.73      0.62      0.63     21000\n",
            "weighted avg       0.78      0.80      0.77     21000\n",
            "\n",
            "\n",
            "Accuracy Score for model3(training):  0.8035238095238095\n",
            "              precision    recall  f1-score   support\n",
            "\n",
            "           0       0.82      0.95      0.88      7052\n",
            "           1       0.59      0.27      0.37      1948\n",
            "\n",
            "    accuracy                           0.80      9000\n",
            "   macro avg       0.71      0.61      0.63      9000\n",
            "weighted avg       0.77      0.80      0.77      9000\n",
            "\n",
            "\n",
            "Accuracy Score for model3(testing):  0.8016666666666666\n"
          ]
        }
      ],
      "source": [
        "print(metrics.classification_report(train_y, train_pred1))\n",
        "print('\\nAccuracy Score for model3(training): ', accuracy_score(train_pred1, train_y))\n",
        "\n",
        "print(metrics.classification_report(test_y, test_pred1))\n",
        "print('\\nAccuracy Score for model3(testing): ', accuracy_score(test_pred1, test_y))"
      ]
    },
    {
      "cell_type": "markdown",
      "id": "f7e5b975",
      "metadata": {
        "papermill": {
          "duration": 0.079748,
          "end_time": "2022-04-29T19:39:39.857162",
          "exception": false,
          "start_time": "2022-04-29T19:39:39.777414",
          "status": "completed"
        },
        "tags": [],
        "id": "f7e5b975"
      },
      "source": [
        "### Naive Bayes"
      ]
    },
    {
      "cell_type": "code",
      "execution_count": 43,
      "id": "b8c25f15",
      "metadata": {
        "execution": {
          "iopub.execute_input": "2022-04-29T19:39:40.016219Z",
          "iopub.status.busy": "2022-04-29T19:39:40.015925Z",
          "iopub.status.idle": "2022-04-29T19:39:40.037582Z",
          "shell.execute_reply": "2022-04-29T19:39:40.036762Z"
        },
        "papermill": {
          "duration": 0.103696,
          "end_time": "2022-04-29T19:39:40.039654",
          "exception": false,
          "start_time": "2022-04-29T19:39:39.935958",
          "status": "completed"
        },
        "tags": [],
        "colab": {
          "base_uri": "https://localhost:8080/"
        },
        "id": "b8c25f15",
        "outputId": "79b8b273-59e4-4604-fcb5-9303834ecf4d"
      },
      "outputs": [
        {
          "output_type": "execute_result",
          "data": {
            "text/plain": [
              "GaussianNB()"
            ]
          },
          "metadata": {},
          "execution_count": 43
        }
      ],
      "source": [
        "nb_clf = GaussianNB()\n",
        "nb_clf.fit(train_X, train_y)"
      ]
    },
    {
      "cell_type": "code",
      "execution_count": 44,
      "id": "ec0c075f",
      "metadata": {
        "execution": {
          "iopub.execute_input": "2022-04-29T19:39:40.199441Z",
          "iopub.status.busy": "2022-04-29T19:39:40.198880Z",
          "iopub.status.idle": "2022-04-29T19:39:40.224468Z",
          "shell.execute_reply": "2022-04-29T19:39:40.223810Z"
        },
        "papermill": {
          "duration": 0.108163,
          "end_time": "2022-04-29T19:39:40.226626",
          "exception": false,
          "start_time": "2022-04-29T19:39:40.118463",
          "status": "completed"
        },
        "tags": [],
        "id": "ec0c075f"
      },
      "outputs": [],
      "source": [
        "train_pred4=nb_clf.predict(train_X)\n",
        "test_pred4=nb_clf.predict(test_X)"
      ]
    },
    {
      "cell_type": "code",
      "execution_count": 45,
      "id": "e80d5aed",
      "metadata": {
        "execution": {
          "iopub.execute_input": "2022-04-29T19:39:40.390637Z",
          "iopub.status.busy": "2022-04-29T19:39:40.390113Z",
          "iopub.status.idle": "2022-04-29T19:39:40.461840Z",
          "shell.execute_reply": "2022-04-29T19:39:40.461196Z"
        },
        "papermill": {
          "duration": 0.156453,
          "end_time": "2022-04-29T19:39:40.464380",
          "exception": false,
          "start_time": "2022-04-29T19:39:40.307927",
          "status": "completed"
        },
        "tags": [],
        "colab": {
          "base_uri": "https://localhost:8080/"
        },
        "id": "e80d5aed",
        "outputId": "02d6f90b-92cf-4abc-ee00-a728a9949e98"
      },
      "outputs": [
        {
          "output_type": "stream",
          "name": "stdout",
          "text": [
            "              precision    recall  f1-score   support\n",
            "\n",
            "           0       0.86      0.35      0.49     16312\n",
            "           1       0.26      0.80      0.39      4688\n",
            "\n",
            "    accuracy                           0.45     21000\n",
            "   macro avg       0.56      0.58      0.44     21000\n",
            "weighted avg       0.73      0.45      0.47     21000\n",
            "\n",
            "\n",
            "Accuracy Score for model4(training):  0.4481904761904762\n",
            "              precision    recall  f1-score   support\n",
            "\n",
            "           0       0.87      0.35      0.50      7052\n",
            "           1       0.26      0.81      0.39      1948\n",
            "\n",
            "    accuracy                           0.45      9000\n",
            "   macro avg       0.56      0.58      0.44      9000\n",
            "weighted avg       0.74      0.45      0.47      9000\n",
            "\n",
            "\n",
            "Accuracy Score for model4(testing):  0.4481904761904762\n"
          ]
        }
      ],
      "source": [
        "print(metrics.classification_report(train_y, train_pred4))\n",
        "print('\\nAccuracy Score for model4(training): ', accuracy_score(train_pred4, train_y))\n",
        "\n",
        "print(metrics.classification_report(test_y, test_pred4))\n",
        "print('\\nAccuracy Score for model4(testing): ', accuracy_score(train_pred4, train_y))"
      ]
    },
    {
      "cell_type": "markdown",
      "id": "6e576976",
      "metadata": {
        "papermill": {
          "duration": 0.080322,
          "end_time": "2022-04-29T19:39:40.624457",
          "exception": false,
          "start_time": "2022-04-29T19:39:40.544135",
          "status": "completed"
        },
        "tags": [],
        "id": "6e576976"
      },
      "source": [
        "### Random Forest"
      ]
    },
    {
      "cell_type": "code",
      "execution_count": 46,
      "id": "3ccfc16d",
      "metadata": {
        "execution": {
          "iopub.execute_input": "2022-04-29T19:39:40.787835Z",
          "iopub.status.busy": "2022-04-29T19:39:40.787265Z",
          "iopub.status.idle": "2022-04-29T19:39:42.383625Z",
          "shell.execute_reply": "2022-04-29T19:39:42.382769Z"
        },
        "papermill": {
          "duration": 1.679945,
          "end_time": "2022-04-29T19:39:42.385800",
          "exception": false,
          "start_time": "2022-04-29T19:39:40.705855",
          "status": "completed"
        },
        "tags": [],
        "colab": {
          "base_uri": "https://localhost:8080/"
        },
        "id": "3ccfc16d",
        "outputId": "e550fd1f-276e-4d7c-92a1-6e38d2c2a2b9"
      },
      "outputs": [
        {
          "output_type": "execute_result",
          "data": {
            "text/plain": [
              "RandomForestClassifier(max_depth=10, max_features=4, n_jobs=-1, oob_score=True)"
            ]
          },
          "metadata": {},
          "execution_count": 46
        }
      ],
      "source": [
        "from sklearn.ensemble import RandomForestClassifier\n",
        "\n",
        "radm_clf = RandomForestClassifier(oob_score=True,n_estimators=100 , max_depth = 10, max_features=4, n_jobs=-1)\n",
        "radm_clf.fit( train_X, train_y )"
      ]
    },
    {
      "cell_type": "code",
      "execution_count": 47,
      "id": "44ac5bf5",
      "metadata": {
        "execution": {
          "iopub.execute_input": "2022-04-29T19:39:42.547339Z",
          "iopub.status.busy": "2022-04-29T19:39:42.547044Z",
          "iopub.status.idle": "2022-04-29T19:39:42.863553Z",
          "shell.execute_reply": "2022-04-29T19:39:42.862623Z"
        },
        "papermill": {
          "duration": 0.400491,
          "end_time": "2022-04-29T19:39:42.866062",
          "exception": false,
          "start_time": "2022-04-29T19:39:42.465571",
          "status": "completed"
        },
        "tags": [],
        "id": "44ac5bf5"
      },
      "outputs": [],
      "source": [
        "train_pred5=radm_clf.predict(train_X)\n",
        "test_pred5=radm_clf.predict(test_X)"
      ]
    },
    {
      "cell_type": "code",
      "execution_count": 48,
      "id": "964e306c",
      "metadata": {
        "execution": {
          "iopub.execute_input": "2022-04-29T19:39:43.032963Z",
          "iopub.status.busy": "2022-04-29T19:39:43.032626Z",
          "iopub.status.idle": "2022-04-29T19:39:43.099336Z",
          "shell.execute_reply": "2022-04-29T19:39:43.098398Z"
        },
        "papermill": {
          "duration": 0.154744,
          "end_time": "2022-04-29T19:39:43.102017",
          "exception": false,
          "start_time": "2022-04-29T19:39:42.947273",
          "status": "completed"
        },
        "tags": [],
        "colab": {
          "base_uri": "https://localhost:8080/"
        },
        "id": "964e306c",
        "outputId": "c7573c75-faa9-4259-adda-0861e43e3c4f"
      },
      "outputs": [
        {
          "output_type": "stream",
          "name": "stdout",
          "text": [
            "              precision    recall  f1-score   support\n",
            "\n",
            "           0       0.86      0.98      0.92     16312\n",
            "           1       0.85      0.46      0.59      4688\n",
            "\n",
            "    accuracy                           0.86     21000\n",
            "   macro avg       0.86      0.72      0.75     21000\n",
            "weighted avg       0.86      0.86      0.84     21000\n",
            "\n",
            "\n",
            "Accuracy Score for model5(training):  0.8607619047619047\n",
            "              precision    recall  f1-score   support\n",
            "\n",
            "           0       0.84      0.95      0.89      7052\n",
            "           1       0.65      0.36      0.47      1948\n",
            "\n",
            "    accuracy                           0.82      9000\n",
            "   macro avg       0.75      0.65      0.68      9000\n",
            "weighted avg       0.80      0.82      0.80      9000\n",
            "\n",
            "\n",
            "Accuracy Score for model5(testing):  0.8195555555555556\n"
          ]
        }
      ],
      "source": [
        "print(metrics.classification_report(train_y, train_pred5))\n",
        "print('\\nAccuracy Score for model5(training): ', accuracy_score(train_pred5, train_y))\n",
        "\n",
        "print(metrics.classification_report(test_y, test_pred5))\n",
        "print('\\nAccuracy Score for model5(testing): ', accuracy_score(test_pred5, test_y))"
      ]
    },
    {
      "cell_type": "code",
      "execution_count": 49,
      "id": "69a9851b",
      "metadata": {
        "execution": {
          "iopub.execute_input": "2022-04-29T19:39:43.266415Z",
          "iopub.status.busy": "2022-04-29T19:39:43.265899Z",
          "iopub.status.idle": "2022-04-29T19:39:43.287580Z",
          "shell.execute_reply": "2022-04-29T19:39:43.286884Z"
        },
        "papermill": {
          "duration": 0.10567,
          "end_time": "2022-04-29T19:39:43.289774",
          "exception": false,
          "start_time": "2022-04-29T19:39:43.184104",
          "status": "completed"
        },
        "tags": [],
        "id": "69a9851b"
      },
      "outputs": [],
      "source": [
        "lr=accuracy_score(test_pred, test_y)*100\n",
        "knn=accuracy_score(test_pred2, test_y)*100\n",
        "dt=accuracy_score(test_pred1, test_y)*100\n",
        "rf=accuracy_score(test_pred5, test_y)*100\n",
        "nb=accuracy_score(test_pred4, test_y)*100\n",
        "\n",
        "lr1=accuracy_score(train_pred, train_y)*100\n",
        "knn1=accuracy_score(train_pred2, train_y)*100\n",
        "dt1=accuracy_score(train_pred1, train_y)*100\n",
        "rf1=accuracy_score(train_pred5, train_y)*100\n",
        "nb1=accuracy_score(train_pred4, train_y)*100"
      ]
    },
    {
      "cell_type": "code",
      "execution_count": 50,
      "id": "27bdb5c1",
      "metadata": {
        "execution": {
          "iopub.execute_input": "2022-04-29T19:39:43.452492Z",
          "iopub.status.busy": "2022-04-29T19:39:43.451927Z",
          "iopub.status.idle": "2022-04-29T19:39:43.456289Z",
          "shell.execute_reply": "2022-04-29T19:39:43.455673Z"
        },
        "papermill": {
          "duration": 0.087648,
          "end_time": "2022-04-29T19:39:43.458033",
          "exception": false,
          "start_time": "2022-04-29T19:39:43.370385",
          "status": "completed"
        },
        "tags": [],
        "id": "27bdb5c1"
      },
      "outputs": [],
      "source": [
        "dict_train={\"Logistic Regression\":lr1, \"KNN\":knn1, \"Decision Tree\":dt1, \"Random Forest\":rf1, \"Naive Bayes\":nb1}\n",
        "dict_test={\"Logistic Regression\":lr, \"KNN\":knn, \"Decision Tree\":dt, \"Random Forest\":rf, \"Naive Bayes\":nb}"
      ]
    },
    {
      "cell_type": "code",
      "execution_count": 51,
      "id": "55a435eb",
      "metadata": {
        "execution": {
          "iopub.execute_input": "2022-04-29T19:39:43.620270Z",
          "iopub.status.busy": "2022-04-29T19:39:43.619745Z",
          "iopub.status.idle": "2022-04-29T19:39:43.853907Z",
          "shell.execute_reply": "2022-04-29T19:39:43.853147Z"
        },
        "papermill": {
          "duration": 0.317931,
          "end_time": "2022-04-29T19:39:43.856174",
          "exception": false,
          "start_time": "2022-04-29T19:39:43.538243",
          "status": "completed"
        },
        "tags": [],
        "colab": {
          "base_uri": "https://localhost:8080/",
          "height": 479
        },
        "id": "55a435eb",
        "outputId": "e54cb262-3d9f-4642-e4a0-87220b612f66"
      },
      "outputs": [
        {
          "output_type": "display_data",
          "data": {
            "text/plain": [
              "<Figure size 576x432 with 1 Axes>"
            ],
            "image/png": "[encoded data removed]"
          },
          "metadata": {
            "needs_background": "light"
          }
        }
      ],
      "source": [
        "plot1=pd.DataFrame([dict_train,dict_test], index=['Train Accuracy','Test Accuracy']).transpose()\n",
        "\n",
        "plot1.plot(kind='bar',figsize=(8,6))\n",
        "plt.xlabel(\"Algorithm\",fontsize=15)\n",
        "plt.ylabel(\"Accuracy\",fontsize=15)\n",
        "plt.show()"
      ]
    },
    {
      "cell_type": "markdown",
      "source": [
        "#Conclusion:\n",
        "From the above graph we came to know KNN algorithn has the high accuracy by that we can conclude KNN algorithm model is the best model."
      ],
      "metadata": {
        "id": "qdFnyVJzK8O0"
      },
      "id": "qdFnyVJzK8O0"
    }
  ],
  "metadata": {
    "kernelspec": {
      "display_name": "Python 3",
      "language": "python",
      "name": "python3"
    },
    "language_info": {
      "codemirror_mode": {
        "name": "ipython",
        "version": 3
      },
      "file_extension": ".py",
      "mimetype": "text/x-python",
      "name": "python",
      "nbconvert_exporter": "python",
      "pygments_lexer": "ipython3",
      "version": "3.7.12"
    },
    "papermill": {
      "default_parameters": {},
      "duration": 201.167178,
      "end_time": "2022-04-29T19:39:44.759435",
      "environment_variables": {},
      "exception": null,
      "input_path": "__notebook__.ipynb",
      "output_path": "__notebook__.ipynb",
      "parameters": {},
      "start_time": "2022-04-29T19:36:23.592257",
      "version": "2.3.4"
    },
    "colab": {
      "name": "credit-card-default-prediction.ipynb",
      "provenance": []
    }
  },
  "nbformat": 4,
  "nbformat_minor": 5
}